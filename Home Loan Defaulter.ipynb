{
 "cells": [
  {
   "cell_type": "markdown",
   "id": "4494c6ad",
   "metadata": {},
   "source": [
    "# Home Loan Defaulter\n",
    "\n",
    " "
   ]
  },
  {
   "cell_type": "markdown",
   "id": "8ae42017",
   "metadata": {},
   "source": [
    "# Exploratory Data Analysis"
   ]
  },
  {
   "cell_type": "markdown",
   "id": "a2b6b97c",
   "metadata": {},
   "source": [
    "In statistics, exploratory data analysis (EDA) is an approach to analyzing data sets to summarize their main characteristics, often with visual methods. A statistical model can be used or not, but primarily EDA is for seeing what the data can tell us beyond the formal modeling or hypothesis testing task."
   ]
  },
  {
   "cell_type": "markdown",
   "id": "99b7e7a4",
   "metadata": {},
   "source": [
    "### Importing Required Libraries"
   ]
  },
  {
   "cell_type": "code",
   "execution_count": 1,
   "id": "281c31aa",
   "metadata": {},
   "outputs": [],
   "source": [
    "# import numpy for math calculations\n",
    "import numpy as np\n",
    "\n",
    "# import pandas for data (csv) manipulation\n",
    "import pandas as pd\n",
    "\n",
    "# import matplotlib for plotting\n",
    "import matplotlib.pyplot as plt\n",
    "\n",
    "# import seaborn for more plotting options(built on top of matplotlib)\n",
    "import seaborn as sns\n",
    "\n",
    "# Supress unnecessary warnings so that the presentation looks clean\n",
    "import warnings\n",
    "warnings.filterwarnings(\"ignore\")\n",
    "\n",
    "# display plots on the notebook itself\n",
    "%matplotlib inline"
   ]
  },
  {
   "cell_type": "markdown",
   "id": "788f8d1d",
   "metadata": {},
   "source": [
    "### Get the dataset loaded"
   ]
  },
  {
   "cell_type": "code",
   "execution_count": 2,
   "id": "50c15944",
   "metadata": {},
   "outputs": [],
   "source": [
    "train = pd.read_csv(\"application_train.csv\")\n"
   ]
  },
  {
   "cell_type": "markdown",
   "id": "52b7aa07",
   "metadata": {},
   "source": [
    "### How big is the training dataset?"
   ]
  },
  {
   "cell_type": "code",
   "execution_count": 3,
   "id": "0fed8696",
   "metadata": {},
   "outputs": [
    {
     "name": "stdout",
     "output_type": "stream",
     "text": [
      "The application_train.csv has (307511, 122) entires.\n"
     ]
    }
   ],
   "source": [
    "print(\"The application_train.csv has {} entires.\".format(train.shape))\n"
   ]
  },
  {
   "cell_type": "markdown",
   "id": "e7200149",
   "metadata": {},
   "source": [
    "The application_train.csv has (307511, 122) entires.\n"
   ]
  },
  {
   "cell_type": "markdown",
   "id": "89ab7a9f",
   "metadata": {},
   "source": [
    "### Check out the stats\n"
   ]
  },
  {
   "cell_type": "code",
   "execution_count": 4,
   "id": "0bfd6697",
   "metadata": {},
   "outputs": [
    {
     "data": {
      "text/html": [
       "<div>\n",
       "<style scoped>\n",
       "    .dataframe tbody tr th:only-of-type {\n",
       "        vertical-align: middle;\n",
       "    }\n",
       "\n",
       "    .dataframe tbody tr th {\n",
       "        vertical-align: top;\n",
       "    }\n",
       "\n",
       "    .dataframe thead th {\n",
       "        text-align: right;\n",
       "    }\n",
       "</style>\n",
       "<table border=\"1\" class=\"dataframe\">\n",
       "  <thead>\n",
       "    <tr style=\"text-align: right;\">\n",
       "      <th></th>\n",
       "      <th>SK_ID_CURR</th>\n",
       "      <th>TARGET</th>\n",
       "      <th>CNT_CHILDREN</th>\n",
       "      <th>AMT_INCOME_TOTAL</th>\n",
       "      <th>AMT_CREDIT</th>\n",
       "      <th>AMT_ANNUITY</th>\n",
       "      <th>AMT_GOODS_PRICE</th>\n",
       "      <th>REGION_POPULATION_RELATIVE</th>\n",
       "      <th>DAYS_BIRTH</th>\n",
       "      <th>DAYS_EMPLOYED</th>\n",
       "      <th>...</th>\n",
       "      <th>FLAG_DOCUMENT_18</th>\n",
       "      <th>FLAG_DOCUMENT_19</th>\n",
       "      <th>FLAG_DOCUMENT_20</th>\n",
       "      <th>FLAG_DOCUMENT_21</th>\n",
       "      <th>AMT_REQ_CREDIT_BUREAU_HOUR</th>\n",
       "      <th>AMT_REQ_CREDIT_BUREAU_DAY</th>\n",
       "      <th>AMT_REQ_CREDIT_BUREAU_WEEK</th>\n",
       "      <th>AMT_REQ_CREDIT_BUREAU_MON</th>\n",
       "      <th>AMT_REQ_CREDIT_BUREAU_QRT</th>\n",
       "      <th>AMT_REQ_CREDIT_BUREAU_YEAR</th>\n",
       "    </tr>\n",
       "  </thead>\n",
       "  <tbody>\n",
       "    <tr>\n",
       "      <th>count</th>\n",
       "      <td>307511.000000</td>\n",
       "      <td>307511.000000</td>\n",
       "      <td>307511.000000</td>\n",
       "      <td>3.075110e+05</td>\n",
       "      <td>3.075110e+05</td>\n",
       "      <td>307499.000000</td>\n",
       "      <td>3.072330e+05</td>\n",
       "      <td>307511.000000</td>\n",
       "      <td>307511.000000</td>\n",
       "      <td>307511.000000</td>\n",
       "      <td>...</td>\n",
       "      <td>307511.000000</td>\n",
       "      <td>307511.000000</td>\n",
       "      <td>307511.000000</td>\n",
       "      <td>307511.000000</td>\n",
       "      <td>265992.000000</td>\n",
       "      <td>265992.000000</td>\n",
       "      <td>265992.000000</td>\n",
       "      <td>265992.000000</td>\n",
       "      <td>265992.000000</td>\n",
       "      <td>265992.000000</td>\n",
       "    </tr>\n",
       "    <tr>\n",
       "      <th>mean</th>\n",
       "      <td>278180.518577</td>\n",
       "      <td>0.080729</td>\n",
       "      <td>0.417052</td>\n",
       "      <td>1.687979e+05</td>\n",
       "      <td>5.990260e+05</td>\n",
       "      <td>27108.573909</td>\n",
       "      <td>5.383962e+05</td>\n",
       "      <td>0.020868</td>\n",
       "      <td>-16036.995067</td>\n",
       "      <td>63815.045904</td>\n",
       "      <td>...</td>\n",
       "      <td>0.008130</td>\n",
       "      <td>0.000595</td>\n",
       "      <td>0.000507</td>\n",
       "      <td>0.000335</td>\n",
       "      <td>0.006402</td>\n",
       "      <td>0.007000</td>\n",
       "      <td>0.034362</td>\n",
       "      <td>0.267395</td>\n",
       "      <td>0.265474</td>\n",
       "      <td>1.899974</td>\n",
       "    </tr>\n",
       "    <tr>\n",
       "      <th>std</th>\n",
       "      <td>102790.175348</td>\n",
       "      <td>0.272419</td>\n",
       "      <td>0.722121</td>\n",
       "      <td>2.371231e+05</td>\n",
       "      <td>4.024908e+05</td>\n",
       "      <td>14493.737315</td>\n",
       "      <td>3.694465e+05</td>\n",
       "      <td>0.013831</td>\n",
       "      <td>4363.988632</td>\n",
       "      <td>141275.766519</td>\n",
       "      <td>...</td>\n",
       "      <td>0.089798</td>\n",
       "      <td>0.024387</td>\n",
       "      <td>0.022518</td>\n",
       "      <td>0.018299</td>\n",
       "      <td>0.083849</td>\n",
       "      <td>0.110757</td>\n",
       "      <td>0.204685</td>\n",
       "      <td>0.916002</td>\n",
       "      <td>0.794056</td>\n",
       "      <td>1.869295</td>\n",
       "    </tr>\n",
       "    <tr>\n",
       "      <th>min</th>\n",
       "      <td>100002.000000</td>\n",
       "      <td>0.000000</td>\n",
       "      <td>0.000000</td>\n",
       "      <td>2.565000e+04</td>\n",
       "      <td>4.500000e+04</td>\n",
       "      <td>1615.500000</td>\n",
       "      <td>4.050000e+04</td>\n",
       "      <td>0.000290</td>\n",
       "      <td>-25229.000000</td>\n",
       "      <td>-17912.000000</td>\n",
       "      <td>...</td>\n",
       "      <td>0.000000</td>\n",
       "      <td>0.000000</td>\n",
       "      <td>0.000000</td>\n",
       "      <td>0.000000</td>\n",
       "      <td>0.000000</td>\n",
       "      <td>0.000000</td>\n",
       "      <td>0.000000</td>\n",
       "      <td>0.000000</td>\n",
       "      <td>0.000000</td>\n",
       "      <td>0.000000</td>\n",
       "    </tr>\n",
       "    <tr>\n",
       "      <th>25%</th>\n",
       "      <td>189145.500000</td>\n",
       "      <td>0.000000</td>\n",
       "      <td>0.000000</td>\n",
       "      <td>1.125000e+05</td>\n",
       "      <td>2.700000e+05</td>\n",
       "      <td>16524.000000</td>\n",
       "      <td>2.385000e+05</td>\n",
       "      <td>0.010006</td>\n",
       "      <td>-19682.000000</td>\n",
       "      <td>-2760.000000</td>\n",
       "      <td>...</td>\n",
       "      <td>0.000000</td>\n",
       "      <td>0.000000</td>\n",
       "      <td>0.000000</td>\n",
       "      <td>0.000000</td>\n",
       "      <td>0.000000</td>\n",
       "      <td>0.000000</td>\n",
       "      <td>0.000000</td>\n",
       "      <td>0.000000</td>\n",
       "      <td>0.000000</td>\n",
       "      <td>0.000000</td>\n",
       "    </tr>\n",
       "    <tr>\n",
       "      <th>50%</th>\n",
       "      <td>278202.000000</td>\n",
       "      <td>0.000000</td>\n",
       "      <td>0.000000</td>\n",
       "      <td>1.471500e+05</td>\n",
       "      <td>5.135310e+05</td>\n",
       "      <td>24903.000000</td>\n",
       "      <td>4.500000e+05</td>\n",
       "      <td>0.018850</td>\n",
       "      <td>-15750.000000</td>\n",
       "      <td>-1213.000000</td>\n",
       "      <td>...</td>\n",
       "      <td>0.000000</td>\n",
       "      <td>0.000000</td>\n",
       "      <td>0.000000</td>\n",
       "      <td>0.000000</td>\n",
       "      <td>0.000000</td>\n",
       "      <td>0.000000</td>\n",
       "      <td>0.000000</td>\n",
       "      <td>0.000000</td>\n",
       "      <td>0.000000</td>\n",
       "      <td>1.000000</td>\n",
       "    </tr>\n",
       "    <tr>\n",
       "      <th>75%</th>\n",
       "      <td>367142.500000</td>\n",
       "      <td>0.000000</td>\n",
       "      <td>1.000000</td>\n",
       "      <td>2.025000e+05</td>\n",
       "      <td>8.086500e+05</td>\n",
       "      <td>34596.000000</td>\n",
       "      <td>6.795000e+05</td>\n",
       "      <td>0.028663</td>\n",
       "      <td>-12413.000000</td>\n",
       "      <td>-289.000000</td>\n",
       "      <td>...</td>\n",
       "      <td>0.000000</td>\n",
       "      <td>0.000000</td>\n",
       "      <td>0.000000</td>\n",
       "      <td>0.000000</td>\n",
       "      <td>0.000000</td>\n",
       "      <td>0.000000</td>\n",
       "      <td>0.000000</td>\n",
       "      <td>0.000000</td>\n",
       "      <td>0.000000</td>\n",
       "      <td>3.000000</td>\n",
       "    </tr>\n",
       "    <tr>\n",
       "      <th>max</th>\n",
       "      <td>456255.000000</td>\n",
       "      <td>1.000000</td>\n",
       "      <td>19.000000</td>\n",
       "      <td>1.170000e+08</td>\n",
       "      <td>4.050000e+06</td>\n",
       "      <td>258025.500000</td>\n",
       "      <td>4.050000e+06</td>\n",
       "      <td>0.072508</td>\n",
       "      <td>-7489.000000</td>\n",
       "      <td>365243.000000</td>\n",
       "      <td>...</td>\n",
       "      <td>1.000000</td>\n",
       "      <td>1.000000</td>\n",
       "      <td>1.000000</td>\n",
       "      <td>1.000000</td>\n",
       "      <td>4.000000</td>\n",
       "      <td>9.000000</td>\n",
       "      <td>8.000000</td>\n",
       "      <td>27.000000</td>\n",
       "      <td>261.000000</td>\n",
       "      <td>25.000000</td>\n",
       "    </tr>\n",
       "  </tbody>\n",
       "</table>\n",
       "<p>8 rows × 106 columns</p>\n",
       "</div>"
      ],
      "text/plain": [
       "          SK_ID_CURR         TARGET   CNT_CHILDREN  AMT_INCOME_TOTAL  \\\n",
       "count  307511.000000  307511.000000  307511.000000      3.075110e+05   \n",
       "mean   278180.518577       0.080729       0.417052      1.687979e+05   \n",
       "std    102790.175348       0.272419       0.722121      2.371231e+05   \n",
       "min    100002.000000       0.000000       0.000000      2.565000e+04   \n",
       "25%    189145.500000       0.000000       0.000000      1.125000e+05   \n",
       "50%    278202.000000       0.000000       0.000000      1.471500e+05   \n",
       "75%    367142.500000       0.000000       1.000000      2.025000e+05   \n",
       "max    456255.000000       1.000000      19.000000      1.170000e+08   \n",
       "\n",
       "         AMT_CREDIT    AMT_ANNUITY  AMT_GOODS_PRICE  \\\n",
       "count  3.075110e+05  307499.000000     3.072330e+05   \n",
       "mean   5.990260e+05   27108.573909     5.383962e+05   \n",
       "std    4.024908e+05   14493.737315     3.694465e+05   \n",
       "min    4.500000e+04    1615.500000     4.050000e+04   \n",
       "25%    2.700000e+05   16524.000000     2.385000e+05   \n",
       "50%    5.135310e+05   24903.000000     4.500000e+05   \n",
       "75%    8.086500e+05   34596.000000     6.795000e+05   \n",
       "max    4.050000e+06  258025.500000     4.050000e+06   \n",
       "\n",
       "       REGION_POPULATION_RELATIVE     DAYS_BIRTH  DAYS_EMPLOYED  ...  \\\n",
       "count               307511.000000  307511.000000  307511.000000  ...   \n",
       "mean                     0.020868  -16036.995067   63815.045904  ...   \n",
       "std                      0.013831    4363.988632  141275.766519  ...   \n",
       "min                      0.000290  -25229.000000  -17912.000000  ...   \n",
       "25%                      0.010006  -19682.000000   -2760.000000  ...   \n",
       "50%                      0.018850  -15750.000000   -1213.000000  ...   \n",
       "75%                      0.028663  -12413.000000    -289.000000  ...   \n",
       "max                      0.072508   -7489.000000  365243.000000  ...   \n",
       "\n",
       "       FLAG_DOCUMENT_18  FLAG_DOCUMENT_19  FLAG_DOCUMENT_20  FLAG_DOCUMENT_21  \\\n",
       "count     307511.000000     307511.000000     307511.000000     307511.000000   \n",
       "mean           0.008130          0.000595          0.000507          0.000335   \n",
       "std            0.089798          0.024387          0.022518          0.018299   \n",
       "min            0.000000          0.000000          0.000000          0.000000   \n",
       "25%            0.000000          0.000000          0.000000          0.000000   \n",
       "50%            0.000000          0.000000          0.000000          0.000000   \n",
       "75%            0.000000          0.000000          0.000000          0.000000   \n",
       "max            1.000000          1.000000          1.000000          1.000000   \n",
       "\n",
       "       AMT_REQ_CREDIT_BUREAU_HOUR  AMT_REQ_CREDIT_BUREAU_DAY  \\\n",
       "count               265992.000000              265992.000000   \n",
       "mean                     0.006402                   0.007000   \n",
       "std                      0.083849                   0.110757   \n",
       "min                      0.000000                   0.000000   \n",
       "25%                      0.000000                   0.000000   \n",
       "50%                      0.000000                   0.000000   \n",
       "75%                      0.000000                   0.000000   \n",
       "max                      4.000000                   9.000000   \n",
       "\n",
       "       AMT_REQ_CREDIT_BUREAU_WEEK  AMT_REQ_CREDIT_BUREAU_MON  \\\n",
       "count               265992.000000              265992.000000   \n",
       "mean                     0.034362                   0.267395   \n",
       "std                      0.204685                   0.916002   \n",
       "min                      0.000000                   0.000000   \n",
       "25%                      0.000000                   0.000000   \n",
       "50%                      0.000000                   0.000000   \n",
       "75%                      0.000000                   0.000000   \n",
       "max                      8.000000                  27.000000   \n",
       "\n",
       "       AMT_REQ_CREDIT_BUREAU_QRT  AMT_REQ_CREDIT_BUREAU_YEAR  \n",
       "count              265992.000000               265992.000000  \n",
       "mean                    0.265474                    1.899974  \n",
       "std                     0.794056                    1.869295  \n",
       "min                     0.000000                    0.000000  \n",
       "25%                     0.000000                    0.000000  \n",
       "50%                     0.000000                    1.000000  \n",
       "75%                     0.000000                    3.000000  \n",
       "max                   261.000000                   25.000000  \n",
       "\n",
       "[8 rows x 106 columns]"
      ]
     },
     "execution_count": 4,
     "metadata": {},
     "output_type": "execute_result"
    }
   ],
   "source": [
    "train.describe()\n"
   ]
  },
  {
   "cell_type": "markdown",
   "id": "96ca7e97",
   "metadata": {},
   "source": [
    "### Lets look at the overview of the data\n"
   ]
  },
  {
   "cell_type": "code",
   "execution_count": 5,
   "id": "a2bb789b",
   "metadata": {},
   "outputs": [
    {
     "name": "stdout",
     "output_type": "stream",
     "text": [
      "<class 'pandas.core.frame.DataFrame'>\n",
      "RangeIndex: 307511 entries, 0 to 307510\n",
      "Columns: 122 entries, SK_ID_CURR to AMT_REQ_CREDIT_BUREAU_YEAR\n",
      "dtypes: float64(65), int64(41), object(16)\n",
      "memory usage: 286.2+ MB\n"
     ]
    }
   ],
   "source": [
    "train.info()\n"
   ]
  },
  {
   "cell_type": "markdown",
   "id": "27b077ae",
   "metadata": {},
   "source": [
    "### Lets look at available columns and total number of columns\n"
   ]
  },
  {
   "cell_type": "code",
   "execution_count": 6,
   "id": "8647a9e0",
   "metadata": {},
   "outputs": [
    {
     "data": {
      "text/plain": [
       "Index(['SK_ID_CURR', 'TARGET', 'NAME_CONTRACT_TYPE', 'CODE_GENDER',\n",
       "       'FLAG_OWN_CAR', 'FLAG_OWN_REALTY', 'CNT_CHILDREN', 'AMT_INCOME_TOTAL',\n",
       "       'AMT_CREDIT', 'AMT_ANNUITY',\n",
       "       ...\n",
       "       'FLAG_DOCUMENT_18', 'FLAG_DOCUMENT_19', 'FLAG_DOCUMENT_20',\n",
       "       'FLAG_DOCUMENT_21', 'AMT_REQ_CREDIT_BUREAU_HOUR',\n",
       "       'AMT_REQ_CREDIT_BUREAU_DAY', 'AMT_REQ_CREDIT_BUREAU_WEEK',\n",
       "       'AMT_REQ_CREDIT_BUREAU_MON', 'AMT_REQ_CREDIT_BUREAU_QRT',\n",
       "       'AMT_REQ_CREDIT_BUREAU_YEAR'],\n",
       "      dtype='object', length=122)"
      ]
     },
     "execution_count": 6,
     "metadata": {},
     "output_type": "execute_result"
    }
   ],
   "source": [
    "train.columns\n"
   ]
  },
  {
   "cell_type": "markdown",
   "id": "a55c05a6",
   "metadata": {},
   "source": [
    "### How do the first 5 rows look like?- Just a sanity check\n"
   ]
  },
  {
   "cell_type": "code",
   "execution_count": 7,
   "id": "09a1bc10",
   "metadata": {},
   "outputs": [
    {
     "data": {
      "text/html": [
       "<div>\n",
       "<style scoped>\n",
       "    .dataframe tbody tr th:only-of-type {\n",
       "        vertical-align: middle;\n",
       "    }\n",
       "\n",
       "    .dataframe tbody tr th {\n",
       "        vertical-align: top;\n",
       "    }\n",
       "\n",
       "    .dataframe thead th {\n",
       "        text-align: right;\n",
       "    }\n",
       "</style>\n",
       "<table border=\"1\" class=\"dataframe\">\n",
       "  <thead>\n",
       "    <tr style=\"text-align: right;\">\n",
       "      <th></th>\n",
       "      <th>SK_ID_CURR</th>\n",
       "      <th>TARGET</th>\n",
       "      <th>NAME_CONTRACT_TYPE</th>\n",
       "      <th>CODE_GENDER</th>\n",
       "      <th>FLAG_OWN_CAR</th>\n",
       "      <th>FLAG_OWN_REALTY</th>\n",
       "      <th>CNT_CHILDREN</th>\n",
       "      <th>AMT_INCOME_TOTAL</th>\n",
       "      <th>AMT_CREDIT</th>\n",
       "      <th>AMT_ANNUITY</th>\n",
       "      <th>...</th>\n",
       "      <th>FLAG_DOCUMENT_18</th>\n",
       "      <th>FLAG_DOCUMENT_19</th>\n",
       "      <th>FLAG_DOCUMENT_20</th>\n",
       "      <th>FLAG_DOCUMENT_21</th>\n",
       "      <th>AMT_REQ_CREDIT_BUREAU_HOUR</th>\n",
       "      <th>AMT_REQ_CREDIT_BUREAU_DAY</th>\n",
       "      <th>AMT_REQ_CREDIT_BUREAU_WEEK</th>\n",
       "      <th>AMT_REQ_CREDIT_BUREAU_MON</th>\n",
       "      <th>AMT_REQ_CREDIT_BUREAU_QRT</th>\n",
       "      <th>AMT_REQ_CREDIT_BUREAU_YEAR</th>\n",
       "    </tr>\n",
       "  </thead>\n",
       "  <tbody>\n",
       "    <tr>\n",
       "      <th>0</th>\n",
       "      <td>100002</td>\n",
       "      <td>1</td>\n",
       "      <td>Cash loans</td>\n",
       "      <td>M</td>\n",
       "      <td>N</td>\n",
       "      <td>Y</td>\n",
       "      <td>0</td>\n",
       "      <td>202500.0</td>\n",
       "      <td>406597.5</td>\n",
       "      <td>24700.5</td>\n",
       "      <td>...</td>\n",
       "      <td>0</td>\n",
       "      <td>0</td>\n",
       "      <td>0</td>\n",
       "      <td>0</td>\n",
       "      <td>0.0</td>\n",
       "      <td>0.0</td>\n",
       "      <td>0.0</td>\n",
       "      <td>0.0</td>\n",
       "      <td>0.0</td>\n",
       "      <td>1.0</td>\n",
       "    </tr>\n",
       "    <tr>\n",
       "      <th>1</th>\n",
       "      <td>100003</td>\n",
       "      <td>0</td>\n",
       "      <td>Cash loans</td>\n",
       "      <td>F</td>\n",
       "      <td>N</td>\n",
       "      <td>N</td>\n",
       "      <td>0</td>\n",
       "      <td>270000.0</td>\n",
       "      <td>1293502.5</td>\n",
       "      <td>35698.5</td>\n",
       "      <td>...</td>\n",
       "      <td>0</td>\n",
       "      <td>0</td>\n",
       "      <td>0</td>\n",
       "      <td>0</td>\n",
       "      <td>0.0</td>\n",
       "      <td>0.0</td>\n",
       "      <td>0.0</td>\n",
       "      <td>0.0</td>\n",
       "      <td>0.0</td>\n",
       "      <td>0.0</td>\n",
       "    </tr>\n",
       "    <tr>\n",
       "      <th>2</th>\n",
       "      <td>100004</td>\n",
       "      <td>0</td>\n",
       "      <td>Revolving loans</td>\n",
       "      <td>M</td>\n",
       "      <td>Y</td>\n",
       "      <td>Y</td>\n",
       "      <td>0</td>\n",
       "      <td>67500.0</td>\n",
       "      <td>135000.0</td>\n",
       "      <td>6750.0</td>\n",
       "      <td>...</td>\n",
       "      <td>0</td>\n",
       "      <td>0</td>\n",
       "      <td>0</td>\n",
       "      <td>0</td>\n",
       "      <td>0.0</td>\n",
       "      <td>0.0</td>\n",
       "      <td>0.0</td>\n",
       "      <td>0.0</td>\n",
       "      <td>0.0</td>\n",
       "      <td>0.0</td>\n",
       "    </tr>\n",
       "    <tr>\n",
       "      <th>3</th>\n",
       "      <td>100006</td>\n",
       "      <td>0</td>\n",
       "      <td>Cash loans</td>\n",
       "      <td>F</td>\n",
       "      <td>N</td>\n",
       "      <td>Y</td>\n",
       "      <td>0</td>\n",
       "      <td>135000.0</td>\n",
       "      <td>312682.5</td>\n",
       "      <td>29686.5</td>\n",
       "      <td>...</td>\n",
       "      <td>0</td>\n",
       "      <td>0</td>\n",
       "      <td>0</td>\n",
       "      <td>0</td>\n",
       "      <td>NaN</td>\n",
       "      <td>NaN</td>\n",
       "      <td>NaN</td>\n",
       "      <td>NaN</td>\n",
       "      <td>NaN</td>\n",
       "      <td>NaN</td>\n",
       "    </tr>\n",
       "    <tr>\n",
       "      <th>4</th>\n",
       "      <td>100007</td>\n",
       "      <td>0</td>\n",
       "      <td>Cash loans</td>\n",
       "      <td>M</td>\n",
       "      <td>N</td>\n",
       "      <td>Y</td>\n",
       "      <td>0</td>\n",
       "      <td>121500.0</td>\n",
       "      <td>513000.0</td>\n",
       "      <td>21865.5</td>\n",
       "      <td>...</td>\n",
       "      <td>0</td>\n",
       "      <td>0</td>\n",
       "      <td>0</td>\n",
       "      <td>0</td>\n",
       "      <td>0.0</td>\n",
       "      <td>0.0</td>\n",
       "      <td>0.0</td>\n",
       "      <td>0.0</td>\n",
       "      <td>0.0</td>\n",
       "      <td>0.0</td>\n",
       "    </tr>\n",
       "  </tbody>\n",
       "</table>\n",
       "<p>5 rows × 122 columns</p>\n",
       "</div>"
      ],
      "text/plain": [
       "   SK_ID_CURR  TARGET NAME_CONTRACT_TYPE CODE_GENDER FLAG_OWN_CAR  \\\n",
       "0      100002       1         Cash loans           M            N   \n",
       "1      100003       0         Cash loans           F            N   \n",
       "2      100004       0    Revolving loans           M            Y   \n",
       "3      100006       0         Cash loans           F            N   \n",
       "4      100007       0         Cash loans           M            N   \n",
       "\n",
       "  FLAG_OWN_REALTY  CNT_CHILDREN  AMT_INCOME_TOTAL  AMT_CREDIT  AMT_ANNUITY  \\\n",
       "0               Y             0          202500.0    406597.5      24700.5   \n",
       "1               N             0          270000.0   1293502.5      35698.5   \n",
       "2               Y             0           67500.0    135000.0       6750.0   \n",
       "3               Y             0          135000.0    312682.5      29686.5   \n",
       "4               Y             0          121500.0    513000.0      21865.5   \n",
       "\n",
       "   ...  FLAG_DOCUMENT_18 FLAG_DOCUMENT_19 FLAG_DOCUMENT_20 FLAG_DOCUMENT_21  \\\n",
       "0  ...                 0                0                0                0   \n",
       "1  ...                 0                0                0                0   \n",
       "2  ...                 0                0                0                0   \n",
       "3  ...                 0                0                0                0   \n",
       "4  ...                 0                0                0                0   \n",
       "\n",
       "  AMT_REQ_CREDIT_BUREAU_HOUR AMT_REQ_CREDIT_BUREAU_DAY  \\\n",
       "0                        0.0                       0.0   \n",
       "1                        0.0                       0.0   \n",
       "2                        0.0                       0.0   \n",
       "3                        NaN                       NaN   \n",
       "4                        0.0                       0.0   \n",
       "\n",
       "   AMT_REQ_CREDIT_BUREAU_WEEK  AMT_REQ_CREDIT_BUREAU_MON  \\\n",
       "0                         0.0                        0.0   \n",
       "1                         0.0                        0.0   \n",
       "2                         0.0                        0.0   \n",
       "3                         NaN                        NaN   \n",
       "4                         0.0                        0.0   \n",
       "\n",
       "   AMT_REQ_CREDIT_BUREAU_QRT  AMT_REQ_CREDIT_BUREAU_YEAR  \n",
       "0                        0.0                         1.0  \n",
       "1                        0.0                         0.0  \n",
       "2                        0.0                         0.0  \n",
       "3                        NaN                         NaN  \n",
       "4                        0.0                         0.0  \n",
       "\n",
       "[5 rows x 122 columns]"
      ]
     },
     "execution_count": 7,
     "metadata": {},
     "output_type": "execute_result"
    }
   ],
   "source": [
    "train.head()\n"
   ]
  },
  {
   "cell_type": "markdown",
   "id": "949abc45",
   "metadata": {},
   "source": [
    "### 2. Data Analysis\n"
   ]
  },
  {
   "cell_type": "markdown",
   "id": "4a1d6521",
   "metadata": {},
   "source": [
    "### 2.1 Who is the highest borrower? Male or Female?\n"
   ]
  },
  {
   "cell_type": "code",
   "execution_count": 8,
   "id": "34a55773",
   "metadata": {},
   "outputs": [
    {
     "data": {
      "text/plain": [
       "<AxesSubplot:xlabel='CODE_GENDER', ylabel='count'>"
      ]
     },
     "execution_count": 8,
     "metadata": {},
     "output_type": "execute_result"
    },
    {
     "data": {
      "image/png": "[encoded data removed]",
      "text/plain": [
       "<Figure size 720x504 with 1 Axes>"
      ]
     },
     "metadata": {
      "needs_background": "light"
     },
     "output_type": "display_data"
    }
   ],
   "source": [
    "\n",
    "fig, ax = plt.subplots(figsize=(10,7))\n",
    "sns.countplot(x='CODE_GENDER',data=train)"
   ]
  },
  {
   "cell_type": "code",
   "execution_count": 9,
   "id": "7fdd2b4e",
   "metadata": {},
   "outputs": [
    {
     "name": "stdout",
     "output_type": "stream",
     "text": [
      "Surprisingly, females are the highest borrowers with counts:\n",
      "F      202448\n",
      "M      105059\n",
      "XNA         4\n",
      "Name: CODE_GENDER, dtype: int64\n"
     ]
    }
   ],
   "source": [
    "print(\"Surprisingly, females are the highest borrowers with counts:\\n{}\".format(train.CODE_GENDER.value_counts()))\n"
   ]
  },
  {
   "cell_type": "markdown",
   "id": "985f0865",
   "metadata": {},
   "source": [
    "### 2.2 How is the distribution of target labels? - Did most people return on time ?\n",
    "\n",
    "According to description of the data -\"1 indicates client with payment difficulties: he/she had late payment more than X days on at least one of the first Y installments of the loan in our sample, 0 indicates all other cases\".\n"
   ]
  },
  {
   "cell_type": "code",
   "execution_count": 10,
   "id": "e6642180",
   "metadata": {},
   "outputs": [
    {
     "data": {
      "text/plain": [
       "<AxesSubplot:xlabel='TARGET', ylabel='count'>"
      ]
     },
     "execution_count": 10,
     "metadata": {},
     "output_type": "execute_result"
    },
    {
     "data": {
      "image/png": "[encoded data removed]",
      "text/plain": [
       "<Figure size 720x504 with 1 Axes>"
      ]
     },
     "metadata": {
      "needs_background": "light"
     },
     "output_type": "display_data"
    }
   ],
   "source": [
    "\n",
    "fig, ax = plt.subplots(figsize=(10,7))\n",
    "sns.countplot(x ='TARGET',data=train, hue='TARGET',palette=\"Set1\")"
   ]
  },
  {
   "cell_type": "markdown",
   "id": "118e27df",
   "metadata": {},
   "source": [
    "### Based on the description, most people returned the money {1- people with difficulties, 0 - other cases }. Very clearly the target label is imbalanced"
   ]
  },
  {
   "cell_type": "markdown",
   "id": "ef6b91ea",
   "metadata": {},
   "source": [
    "### 2.3 Whether is it Female who has more difficulties or is it Male?\n"
   ]
  },
  {
   "cell_type": "code",
   "execution_count": 11,
   "id": "a6dddc94",
   "metadata": {},
   "outputs": [
    {
     "data": {
      "text/plain": [
       "<AxesSubplot:xlabel='TARGET', ylabel='count'>"
      ]
     },
     "execution_count": 11,
     "metadata": {},
     "output_type": "execute_result"
    },
    {
     "data": {
      "image/png": "[encoded data removed]",
      "text/plain": [
       "<Figure size 720x504 with 1 Axes>"
      ]
     },
     "metadata": {
      "needs_background": "light"
     },
     "output_type": "display_data"
    }
   ],
   "source": [
    "\n",
    "fig, ax = plt.subplots(figsize=(10,7))\n",
    "sns.countplot(x='TARGET',hue='CODE_GENDER',data=train)"
   ]
  },
  {
   "cell_type": "markdown",
   "id": "72b817f2",
   "metadata": {},
   "source": [
    "Females have relatively more difficulties in repaying the loan back, as seen with Target = 1. This could be because of the general larger population of female applicants as opposed to male applicants."
   ]
  },
  {
   "cell_type": "markdown",
   "id": "424336b0",
   "metadata": {},
   "source": [
    "### Is it because they (Male and Female) own car(s) - How many male and female own cars?\n",
    "\n",
    "### 2.4 Who owns most number of the cars? M or F?\n"
   ]
  },
  {
   "cell_type": "code",
   "execution_count": 12,
   "id": "e4ac1b3b",
   "metadata": {},
   "outputs": [
    {
     "data": {
      "text/plain": [
       "<AxesSubplot:xlabel='CODE_GENDER', ylabel='count'>"
      ]
     },
     "execution_count": 12,
     "metadata": {},
     "output_type": "execute_result"
    },
    {
     "data": {
      "image/png": "[encoded data removed]",
      "text/plain": [
       "<Figure size 720x504 with 1 Axes>"
      ]
     },
     "metadata": {
      "needs_background": "light"
     },
     "output_type": "display_data"
    }
   ],
   "source": [
    "\n",
    "fig, ax = plt.subplots(figsize=(10,7))\n",
    "sns.countplot(x='CODE_GENDER', hue='FLAG_OWN_CAR', data=train,palette=\"Set1\")"
   ]
  },
  {
   "cell_type": "markdown",
   "id": "6d0e67c3",
   "metadata": {},
   "source": [
    "### Females own less number of cars.\n"
   ]
  },
  {
   "cell_type": "markdown",
   "id": "37a38694",
   "metadata": {},
   "source": [
    "### 2.5 How old is the client's car(s)? - Are they investing that money in fixing those car(s) or are they using that money to buy a new car?\n"
   ]
  },
  {
   "cell_type": "code",
   "execution_count": 13,
   "id": "982aad98",
   "metadata": {},
   "outputs": [
    {
     "data": {
      "text/plain": [
       "<AxesSubplot:xlabel='CODE_GENDER', ylabel='OWN_CAR_AGE'>"
      ]
     },
     "execution_count": 13,
     "metadata": {},
     "output_type": "execute_result"
    },
    {
     "data": {
      "image/png": "[encoded data removed]",
      "text/plain": [
       "<Figure size 720x504 with 1 Axes>"
      ]
     },
     "metadata": {
      "needs_background": "light"
     },
     "output_type": "display_data"
    }
   ],
   "source": [
    "fig, ax = plt.subplots(figsize=(10,7))\n",
    "sns.boxplot(x='CODE_GENDER',y='OWN_CAR_AGE',hue='TARGET',data=train,palette=\"Set1\")"
   ]
  },
  {
   "cell_type": "code",
   "execution_count": 14,
   "id": "65e88192",
   "metadata": {},
   "outputs": [
    {
     "data": {
      "text/plain": [
       "<AxesSubplot:xlabel='CODE_GENDER', ylabel='OWN_CAR_AGE'>"
      ]
     },
     "execution_count": 14,
     "metadata": {},
     "output_type": "execute_result"
    },
    {
     "data": {
      "image/png": "[encoded data removed]",
      "text/plain": [
       "<Figure size 720x504 with 1 Axes>"
      ]
     },
     "metadata": {
      "needs_background": "light"
     },
     "output_type": "display_data"
    }
   ],
   "source": [
    "fig, ax = plt.subplots(figsize=(10,7))\n",
    "sns.violinplot(x='CODE_GENDER',y='OWN_CAR_AGE',hue='TARGET',data=train,palette=\"Set2\")"
   ]
  },
  {
   "cell_type": "markdown",
   "id": "2c02d134",
   "metadata": {},
   "source": [
    "### People with repaying difficulty mostly have older cars - Are they spending loan money on cars?\n"
   ]
  },
  {
   "cell_type": "markdown",
   "id": "f7380be5",
   "metadata": {},
   "source": [
    "### 2.6 How is the frequency of car ages? Normal? Poission? Student's T-distribution?\n"
   ]
  },
  {
   "cell_type": "markdown",
   "id": "44f086e7",
   "metadata": {},
   "source": [
    "### How is the distribution of client's car ages? Without KDE or with KDE?- without Norm or with Norm.\n"
   ]
  },
  {
   "cell_type": "code",
   "execution_count": 15,
   "id": "4d4f3c80",
   "metadata": {},
   "outputs": [
    {
     "data": {
      "text/plain": [
       "<AxesSubplot:xlabel='OWN_CAR_AGE', ylabel='Density'>"
      ]
     },
     "execution_count": 15,
     "metadata": {},
     "output_type": "execute_result"
    },
    {
     "data": {
      "image/png": "[encoded data removed]",
      "text/plain": [
       "<Figure size 1080x504 with 2 Axes>"
      ]
     },
     "metadata": {
      "needs_background": "light"
     },
     "output_type": "display_data"
    }
   ],
   "source": [
    "fig, ax = plt.subplots(ncols=2,nrows=1,figsize=(15,7))\n",
    "plt.subplot(1,2,1)\n",
    "sns.distplot(train['OWN_CAR_AGE'].dropna(),norm_hist=False,kde=False)\n",
    "plt.subplot(1,2,2)\n",
    "sns.distplot(train['OWN_CAR_AGE'].dropna(),norm_hist=False,kde=True)"
   ]
  },
  {
   "cell_type": "markdown",
   "id": "fae404ec",
   "metadata": {},
   "source": [
    "### Looks kind of right skewed normal distribution with a bump near 60+ years! Most clients car is around 10 years.\n"
   ]
  },
  {
   "cell_type": "markdown",
   "id": "cc55bee8",
   "metadata": {},
   "source": [
    "### 2.7 What is the minimum number of children do clients have?\n"
   ]
  },
  {
   "cell_type": "code",
   "execution_count": 16,
   "id": "b4d07e44",
   "metadata": {},
   "outputs": [
    {
     "data": {
      "text/plain": [
       "<AxesSubplot:xlabel='CODE_GENDER', ylabel='CNT_CHILDREN'>"
      ]
     },
     "execution_count": 16,
     "metadata": {},
     "output_type": "execute_result"
    },
    {
     "data": {
      "image/png": "[encoded data removed]",
      "text/plain": [
       "<Figure size 720x504 with 1 Axes>"
      ]
     },
     "metadata": {
      "needs_background": "light"
     },
     "output_type": "display_data"
    }
   ],
   "source": [
    "\n",
    "fig, ax = plt.subplots(figsize=(10,7))\n",
    "sns.boxplot(x='CODE_GENDER',y='CNT_CHILDREN',hue='TARGET',data=train)"
   ]
  },
  {
   "cell_type": "markdown",
   "id": "bd737f3c",
   "metadata": {},
   "source": [
    "### It seems like min children count is 0.\n"
   ]
  },
  {
   "cell_type": "markdown",
   "id": "22db6ff8",
   "metadata": {},
   "source": [
    "### 2.8 Does having a kid influence repayment?\n"
   ]
  },
  {
   "cell_type": "code",
   "execution_count": 17,
   "id": "caaa9605",
   "metadata": {},
   "outputs": [
    {
     "data": {
      "text/plain": [
       "<matplotlib.legend.Legend at 0x25d344f80d0>"
      ]
     },
     "execution_count": 17,
     "metadata": {},
     "output_type": "execute_result"
    },
    {
     "data": {
      "image/png": "[encoded data removed]",
      "text/plain": [
       "<Figure size 1080x504 with 1 Axes>"
      ]
     },
     "metadata": {
      "needs_background": "light"
     },
     "output_type": "display_data"
    }
   ],
   "source": [
    "fig, ax = plt.subplots(figsize=(15,7))\n",
    "sns.countplot(x='TARGET',hue='CNT_CHILDREN',data=train,palette=\"hls\")\n",
    "plt.legend(loc=1)"
   ]
  },
  {
   "cell_type": "markdown",
   "id": "7dfcd010",
   "metadata": {},
   "source": [
    "### Most borrowers who have no children had no difficulties repaying - having children impacts the repayment process - it slows down by making it difficult for the client."
   ]
  },
  {
   "cell_type": "markdown",
   "id": "a59f9cbb",
   "metadata": {},
   "source": [
    "# 3. Occupation\n"
   ]
  },
  {
   "cell_type": "markdown",
   "id": "e1a68f95",
   "metadata": {},
   "source": [
    "### 3.1 Who are the major borrowers? - What are their occupations?\n"
   ]
  },
  {
   "cell_type": "code",
   "execution_count": 18,
   "id": "9e7384ec",
   "metadata": {},
   "outputs": [
    {
     "data": {
      "text/plain": [
       "(array([ 0,  1,  2,  3,  4,  5,  6,  7,  8,  9, 10, 11, 12, 13, 14, 15, 16,\n",
       "        17]),\n",
       " [Text(0, 0, 'Laborers'),\n",
       "  Text(1, 0, 'Core staff'),\n",
       "  Text(2, 0, 'Accountants'),\n",
       "  Text(3, 0, 'Managers'),\n",
       "  Text(4, 0, 'Drivers'),\n",
       "  Text(5, 0, 'Sales staff'),\n",
       "  Text(6, 0, 'Cleaning staff'),\n",
       "  Text(7, 0, 'Cooking staff'),\n",
       "  Text(8, 0, 'Private service staff'),\n",
       "  Text(9, 0, 'Medicine staff'),\n",
       "  Text(10, 0, 'Security staff'),\n",
       "  Text(11, 0, 'High skill tech staff'),\n",
       "  Text(12, 0, 'Waiters/barmen staff'),\n",
       "  Text(13, 0, 'Low-skill Laborers'),\n",
       "  Text(14, 0, 'Realty agents'),\n",
       "  Text(15, 0, 'Secretaries'),\n",
       "  Text(16, 0, 'IT staff'),\n",
       "  Text(17, 0, 'HR staff')])"
      ]
     },
     "execution_count": 18,
     "metadata": {},
     "output_type": "execute_result"
    },
    {
     "data": {
      "image/png": "[encoded data removed]",
      "text/plain": [
       "<Figure size 1080x504 with 1 Axes>"
      ]
     },
     "metadata": {
      "needs_background": "light"
     },
     "output_type": "display_data"
    }
   ],
   "source": [
    "\n",
    "fig, ax = plt.subplots(figsize=(15,7))\n",
    "sns.countplot(x='OCCUPATION_TYPE',data=train)\n",
    "plt.xlabel(\"Occupation Type\")\n",
    "plt.xticks(rotation=70)\n"
   ]
  },
  {
   "cell_type": "markdown",
   "id": "e857633f",
   "metadata": {},
   "source": [
    "### Most of the clients are laborers and the least of the clients are IT Staff.\n"
   ]
  },
  {
   "cell_type": "markdown",
   "id": "fdf71e50",
   "metadata": {},
   "source": [
    "### 3.2 How economically stable are clients? Who are the most and least stable?\n"
   ]
  },
  {
   "cell_type": "code",
   "execution_count": 19,
   "id": "93b467de",
   "metadata": {},
   "outputs": [
    {
     "data": {
      "text/plain": [
       "Text(0, 0.5, 'Average Annual family income')"
      ]
     },
     "execution_count": 19,
     "metadata": {},
     "output_type": "execute_result"
    },
    {
     "data": {
      "image/png": "[encoded data removed]",
      "text/plain": [
       "<Figure size 1080x504 with 1 Axes>"
      ]
     },
     "metadata": {
      "needs_background": "light"
     },
     "output_type": "display_data"
    }
   ],
   "source": [
    "fig, ax = plt.subplots(figsize=(15,7))\n",
    "sns.barplot(x='OCCUPATION_TYPE',y='AMT_INCOME_TOTAL',data=train)\n",
    "plt.xticks(rotation=70)\n",
    "plt.xlabel(\"Occupation Type\")\n",
    "plt.ylabel(\"Average Annual family income\")"
   ]
  },
  {
   "cell_type": "markdown",
   "id": "08774e8b",
   "metadata": {},
   "source": [
    "### Managers are the most earning borrowers while cleaning staff are the least earning borrowers - Based on the annual family income."
   ]
  },
  {
   "cell_type": "markdown",
   "id": "2220c857",
   "metadata": {},
   "source": [
    "### 3.3 Which category of occupants repay on time and are better clients for company to lend money?"
   ]
  },
  {
   "cell_type": "code",
   "execution_count": 20,
   "id": "e860544d",
   "metadata": {},
   "outputs": [
    {
     "data": {
      "text/plain": [
       "Text(0.5, 0, 'Occupation Type')"
      ]
     },
     "execution_count": 20,
     "metadata": {},
     "output_type": "execute_result"
    },
    {
     "data": {
      "image/png": "[encoded data removed]",
      "text/plain": [
       "<Figure size 1080x504 with 1 Axes>"
      ]
     },
     "metadata": {
      "needs_background": "light"
     },
     "output_type": "display_data"
    }
   ],
   "source": [
    "fig, ax = plt.subplots(figsize=(15,7))\n",
    "sns.countplot(x='OCCUPATION_TYPE',hue='TARGET',data=train,palette=\"Set2\")\n",
    "plt.xticks(rotation=70)\n",
    "plt.xlabel(\"Occupation Type\")\n"
   ]
  },
  {
   "cell_type": "markdown",
   "id": "cb16db9c",
   "metadata": {},
   "source": [
    "Right off the bat, it seems as if the labourers have the highest difficulty in repaying. Also it seems lending to Reality agents, IT staff, HR staff is the safest.\n",
    "\n",
    "This is not a better way to conclude, because this contains baised number of applicants. A better way is to find a metric that incorporates relative relationship between applicants count and repayers count.\n",
    "\n",
    "Let us look at the number of repayer's to number of applicants ratio in every occupation category."
   ]
  },
  {
   "cell_type": "code",
   "execution_count": 21,
   "id": "d0c6bb7e",
   "metadata": {},
   "outputs": [],
   "source": [
    "# get the number of people having occupation type and target grouped.\n",
    "Occupation_df = pd.DataFrame(data=train.groupby(['OCCUPATION_TYPE','TARGET']).count()['SK_ID_CURR'])"
   ]
  },
  {
   "cell_type": "code",
   "execution_count": 22,
   "id": "57d87f1a",
   "metadata": {},
   "outputs": [
    {
     "data": {
      "text/html": [
       "<div>\n",
       "<style scoped>\n",
       "    .dataframe tbody tr th:only-of-type {\n",
       "        vertical-align: middle;\n",
       "    }\n",
       "\n",
       "    .dataframe tbody tr th {\n",
       "        vertical-align: top;\n",
       "    }\n",
       "\n",
       "    .dataframe thead th {\n",
       "        text-align: right;\n",
       "    }\n",
       "</style>\n",
       "<table border=\"1\" class=\"dataframe\">\n",
       "  <thead>\n",
       "    <tr style=\"text-align: right;\">\n",
       "      <th></th>\n",
       "      <th></th>\n",
       "      <th>SK_ID_CURR</th>\n",
       "    </tr>\n",
       "    <tr>\n",
       "      <th>OCCUPATION_TYPE</th>\n",
       "      <th>TARGET</th>\n",
       "      <th></th>\n",
       "    </tr>\n",
       "  </thead>\n",
       "  <tbody>\n",
       "    <tr>\n",
       "      <th rowspan=\"2\" valign=\"top\">Accountants</th>\n",
       "      <th>0</th>\n",
       "      <td>9339</td>\n",
       "    </tr>\n",
       "    <tr>\n",
       "      <th>1</th>\n",
       "      <td>474</td>\n",
       "    </tr>\n",
       "    <tr>\n",
       "      <th rowspan=\"2\" valign=\"top\">Cleaning staff</th>\n",
       "      <th>0</th>\n",
       "      <td>4206</td>\n",
       "    </tr>\n",
       "    <tr>\n",
       "      <th>1</th>\n",
       "      <td>447</td>\n",
       "    </tr>\n",
       "    <tr>\n",
       "      <th rowspan=\"2\" valign=\"top\">Cooking staff</th>\n",
       "      <th>0</th>\n",
       "      <td>5325</td>\n",
       "    </tr>\n",
       "    <tr>\n",
       "      <th>1</th>\n",
       "      <td>621</td>\n",
       "    </tr>\n",
       "    <tr>\n",
       "      <th rowspan=\"2\" valign=\"top\">Core staff</th>\n",
       "      <th>0</th>\n",
       "      <td>25832</td>\n",
       "    </tr>\n",
       "    <tr>\n",
       "      <th>1</th>\n",
       "      <td>1738</td>\n",
       "    </tr>\n",
       "    <tr>\n",
       "      <th rowspan=\"2\" valign=\"top\">Drivers</th>\n",
       "      <th>0</th>\n",
       "      <td>16496</td>\n",
       "    </tr>\n",
       "    <tr>\n",
       "      <th>1</th>\n",
       "      <td>2107</td>\n",
       "    </tr>\n",
       "    <tr>\n",
       "      <th rowspan=\"2\" valign=\"top\">HR staff</th>\n",
       "      <th>0</th>\n",
       "      <td>527</td>\n",
       "    </tr>\n",
       "    <tr>\n",
       "      <th>1</th>\n",
       "      <td>36</td>\n",
       "    </tr>\n",
       "    <tr>\n",
       "      <th rowspan=\"2\" valign=\"top\">High skill tech staff</th>\n",
       "      <th>0</th>\n",
       "      <td>10679</td>\n",
       "    </tr>\n",
       "    <tr>\n",
       "      <th>1</th>\n",
       "      <td>701</td>\n",
       "    </tr>\n",
       "    <tr>\n",
       "      <th rowspan=\"2\" valign=\"top\">IT staff</th>\n",
       "      <th>0</th>\n",
       "      <td>492</td>\n",
       "    </tr>\n",
       "    <tr>\n",
       "      <th>1</th>\n",
       "      <td>34</td>\n",
       "    </tr>\n",
       "    <tr>\n",
       "      <th rowspan=\"2\" valign=\"top\">Laborers</th>\n",
       "      <th>0</th>\n",
       "      <td>49348</td>\n",
       "    </tr>\n",
       "    <tr>\n",
       "      <th>1</th>\n",
       "      <td>5838</td>\n",
       "    </tr>\n",
       "    <tr>\n",
       "      <th rowspan=\"2\" valign=\"top\">Low-skill Laborers</th>\n",
       "      <th>0</th>\n",
       "      <td>1734</td>\n",
       "    </tr>\n",
       "    <tr>\n",
       "      <th>1</th>\n",
       "      <td>359</td>\n",
       "    </tr>\n",
       "    <tr>\n",
       "      <th rowspan=\"2\" valign=\"top\">Managers</th>\n",
       "      <th>0</th>\n",
       "      <td>20043</td>\n",
       "    </tr>\n",
       "    <tr>\n",
       "      <th>1</th>\n",
       "      <td>1328</td>\n",
       "    </tr>\n",
       "    <tr>\n",
       "      <th rowspan=\"2\" valign=\"top\">Medicine staff</th>\n",
       "      <th>0</th>\n",
       "      <td>7965</td>\n",
       "    </tr>\n",
       "    <tr>\n",
       "      <th>1</th>\n",
       "      <td>572</td>\n",
       "    </tr>\n",
       "    <tr>\n",
       "      <th rowspan=\"2\" valign=\"top\">Private service staff</th>\n",
       "      <th>0</th>\n",
       "      <td>2477</td>\n",
       "    </tr>\n",
       "    <tr>\n",
       "      <th>1</th>\n",
       "      <td>175</td>\n",
       "    </tr>\n",
       "    <tr>\n",
       "      <th rowspan=\"2\" valign=\"top\">Realty agents</th>\n",
       "      <th>0</th>\n",
       "      <td>692</td>\n",
       "    </tr>\n",
       "    <tr>\n",
       "      <th>1</th>\n",
       "      <td>59</td>\n",
       "    </tr>\n",
       "    <tr>\n",
       "      <th rowspan=\"2\" valign=\"top\">Sales staff</th>\n",
       "      <th>0</th>\n",
       "      <td>29010</td>\n",
       "    </tr>\n",
       "    <tr>\n",
       "      <th>1</th>\n",
       "      <td>3092</td>\n",
       "    </tr>\n",
       "    <tr>\n",
       "      <th rowspan=\"2\" valign=\"top\">Secretaries</th>\n",
       "      <th>0</th>\n",
       "      <td>1213</td>\n",
       "    </tr>\n",
       "    <tr>\n",
       "      <th>1</th>\n",
       "      <td>92</td>\n",
       "    </tr>\n",
       "    <tr>\n",
       "      <th rowspan=\"2\" valign=\"top\">Security staff</th>\n",
       "      <th>0</th>\n",
       "      <td>5999</td>\n",
       "    </tr>\n",
       "    <tr>\n",
       "      <th>1</th>\n",
       "      <td>722</td>\n",
       "    </tr>\n",
       "    <tr>\n",
       "      <th rowspan=\"2\" valign=\"top\">Waiters/barmen staff</th>\n",
       "      <th>0</th>\n",
       "      <td>1196</td>\n",
       "    </tr>\n",
       "    <tr>\n",
       "      <th>1</th>\n",
       "      <td>152</td>\n",
       "    </tr>\n",
       "  </tbody>\n",
       "</table>\n",
       "</div>"
      ],
      "text/plain": [
       "                              SK_ID_CURR\n",
       "OCCUPATION_TYPE       TARGET            \n",
       "Accountants           0             9339\n",
       "                      1              474\n",
       "Cleaning staff        0             4206\n",
       "                      1              447\n",
       "Cooking staff         0             5325\n",
       "                      1              621\n",
       "Core staff            0            25832\n",
       "                      1             1738\n",
       "Drivers               0            16496\n",
       "                      1             2107\n",
       "HR staff              0              527\n",
       "                      1               36\n",
       "High skill tech staff 0            10679\n",
       "                      1              701\n",
       "IT staff              0              492\n",
       "                      1               34\n",
       "Laborers              0            49348\n",
       "                      1             5838\n",
       "Low-skill Laborers    0             1734\n",
       "                      1              359\n",
       "Managers              0            20043\n",
       "                      1             1328\n",
       "Medicine staff        0             7965\n",
       "                      1              572\n",
       "Private service staff 0             2477\n",
       "                      1              175\n",
       "Realty agents         0              692\n",
       "                      1               59\n",
       "Sales staff           0            29010\n",
       "                      1             3092\n",
       "Secretaries           0             1213\n",
       "                      1               92\n",
       "Security staff        0             5999\n",
       "                      1              722\n",
       "Waiters/barmen staff  0             1196\n",
       "                      1              152"
      ]
     },
     "execution_count": 22,
     "metadata": {},
     "output_type": "execute_result"
    }
   ],
   "source": [
    "Occupation_df"
   ]
  },
  {
   "cell_type": "code",
   "execution_count": 23,
   "id": "5a2b8c73",
   "metadata": {},
   "outputs": [],
   "source": [
    "value_counts = Occupation_df['SK_ID_CURR'].values\n"
   ]
  },
  {
   "cell_type": "code",
   "execution_count": 24,
   "id": "a7bc1adb",
   "metadata": {},
   "outputs": [
    {
     "data": {
      "text/plain": [
       "array([ 9339,   474,  4206,   447,  5325,   621, 25832,  1738, 16496,\n",
       "        2107,   527,    36, 10679,   701,   492,    34, 49348,  5838,\n",
       "        1734,   359, 20043,  1328,  7965,   572,  2477,   175,   692,\n",
       "          59, 29010,  3092,  1213,    92,  5999,   722,  1196,   152],\n",
       "      dtype=int64)"
      ]
     },
     "execution_count": 24,
     "metadata": {},
     "output_type": "execute_result"
    }
   ],
   "source": [
    "value_counts"
   ]
  },
  {
   "cell_type": "code",
   "execution_count": 25,
   "id": "2d5d27bd",
   "metadata": {},
   "outputs": [],
   "source": [
    "def repayers_to_applicants_ratio(values):\n",
    "    \"\"\"\n",
    "    Finds the ratio of Repayers to Applicants. This kind of is a \n",
    "    measure for safety. Larger the value better the applicant - More \n",
    "    safe for the company to lend loan to this category of workers.\n",
    "    \n",
    "    values: array of entires whose counts are given\n",
    "    returns the repayers to applicants ratio. \n",
    "    \n",
    "    precondition: The counts are such that the targets alligned are\n",
    "    in order 0 and 1\n",
    "    \"\"\"\n",
    "    flag = 1\n",
    "    ratios = []\n",
    "    for count in range(len(values)):\n",
    "        if flag == 1:\n",
    "            current_number = values[count]\n",
    "            next_number = values[count+1]\n",
    "            ratios.append(current_number/(current_number+next_number))\n",
    "            ratios.append(current_number/(current_number+next_number))\n",
    "        flag=flag*-1\n",
    "    return ratios "
   ]
  },
  {
   "cell_type": "code",
   "execution_count": 26,
   "id": "47427885",
   "metadata": {},
   "outputs": [],
   "source": [
    "# find the ratios from the array values\n",
    "Occupation_df['Ratio R/A'] = repayers_to_applicants_ratio(value_counts)"
   ]
  },
  {
   "cell_type": "code",
   "execution_count": 27,
   "id": "3726c82e",
   "metadata": {},
   "outputs": [
    {
     "data": {
      "text/html": [
       "<div>\n",
       "<style scoped>\n",
       "    .dataframe tbody tr th:only-of-type {\n",
       "        vertical-align: middle;\n",
       "    }\n",
       "\n",
       "    .dataframe tbody tr th {\n",
       "        vertical-align: top;\n",
       "    }\n",
       "\n",
       "    .dataframe thead th {\n",
       "        text-align: right;\n",
       "    }\n",
       "</style>\n",
       "<table border=\"1\" class=\"dataframe\">\n",
       "  <thead>\n",
       "    <tr style=\"text-align: right;\">\n",
       "      <th></th>\n",
       "      <th>OCCUPATION_TYPE</th>\n",
       "      <th>Ratio R/A</th>\n",
       "    </tr>\n",
       "  </thead>\n",
       "  <tbody>\n",
       "    <tr>\n",
       "      <th>0</th>\n",
       "      <td>Accountants</td>\n",
       "      <td>0.951697</td>\n",
       "    </tr>\n",
       "    <tr>\n",
       "      <th>6</th>\n",
       "      <td>High skill tech staff</td>\n",
       "      <td>0.938401</td>\n",
       "    </tr>\n",
       "    <tr>\n",
       "      <th>10</th>\n",
       "      <td>Managers</td>\n",
       "      <td>0.937860</td>\n",
       "    </tr>\n",
       "    <tr>\n",
       "      <th>3</th>\n",
       "      <td>Core staff</td>\n",
       "      <td>0.936960</td>\n",
       "    </tr>\n",
       "    <tr>\n",
       "      <th>5</th>\n",
       "      <td>HR staff</td>\n",
       "      <td>0.936057</td>\n",
       "    </tr>\n",
       "    <tr>\n",
       "      <th>7</th>\n",
       "      <td>IT staff</td>\n",
       "      <td>0.935361</td>\n",
       "    </tr>\n",
       "    <tr>\n",
       "      <th>12</th>\n",
       "      <td>Private service staff</td>\n",
       "      <td>0.934012</td>\n",
       "    </tr>\n",
       "    <tr>\n",
       "      <th>11</th>\n",
       "      <td>Medicine staff</td>\n",
       "      <td>0.932998</td>\n",
       "    </tr>\n",
       "    <tr>\n",
       "      <th>15</th>\n",
       "      <td>Secretaries</td>\n",
       "      <td>0.929502</td>\n",
       "    </tr>\n",
       "    <tr>\n",
       "      <th>13</th>\n",
       "      <td>Realty agents</td>\n",
       "      <td>0.921438</td>\n",
       "    </tr>\n",
       "    <tr>\n",
       "      <th>1</th>\n",
       "      <td>Cleaning staff</td>\n",
       "      <td>0.903933</td>\n",
       "    </tr>\n",
       "    <tr>\n",
       "      <th>14</th>\n",
       "      <td>Sales staff</td>\n",
       "      <td>0.903682</td>\n",
       "    </tr>\n",
       "    <tr>\n",
       "      <th>2</th>\n",
       "      <td>Cooking staff</td>\n",
       "      <td>0.895560</td>\n",
       "    </tr>\n",
       "    <tr>\n",
       "      <th>8</th>\n",
       "      <td>Laborers</td>\n",
       "      <td>0.894212</td>\n",
       "    </tr>\n",
       "    <tr>\n",
       "      <th>16</th>\n",
       "      <td>Security staff</td>\n",
       "      <td>0.892576</td>\n",
       "    </tr>\n",
       "    <tr>\n",
       "      <th>17</th>\n",
       "      <td>Waiters/barmen staff</td>\n",
       "      <td>0.887240</td>\n",
       "    </tr>\n",
       "    <tr>\n",
       "      <th>4</th>\n",
       "      <td>Drivers</td>\n",
       "      <td>0.886739</td>\n",
       "    </tr>\n",
       "    <tr>\n",
       "      <th>9</th>\n",
       "      <td>Low-skill Laborers</td>\n",
       "      <td>0.828476</td>\n",
       "    </tr>\n",
       "  </tbody>\n",
       "</table>\n",
       "</div>"
      ],
      "text/plain": [
       "          OCCUPATION_TYPE  Ratio R/A\n",
       "0             Accountants   0.951697\n",
       "6   High skill tech staff   0.938401\n",
       "10               Managers   0.937860\n",
       "3              Core staff   0.936960\n",
       "5                HR staff   0.936057\n",
       "7                IT staff   0.935361\n",
       "12  Private service staff   0.934012\n",
       "11         Medicine staff   0.932998\n",
       "15            Secretaries   0.929502\n",
       "13          Realty agents   0.921438\n",
       "1          Cleaning staff   0.903933\n",
       "14            Sales staff   0.903682\n",
       "2           Cooking staff   0.895560\n",
       "8                Laborers   0.894212\n",
       "16         Security staff   0.892576\n",
       "17   Waiters/barmen staff   0.887240\n",
       "4                 Drivers   0.886739\n",
       "9      Low-skill Laborers   0.828476"
      ]
     },
     "execution_count": 27,
     "metadata": {},
     "output_type": "execute_result"
    }
   ],
   "source": [
    "# get the ratio and values based on the order of saftety.\n",
    "\n",
    "Occupation_ratio_df = Occupation_df.groupby(['OCCUPATION_TYPE','Ratio R/A']).count().drop(['SK_ID_CURR'],axis=1)\n",
    "Occupation_ratio_df = Occupation_ratio_df.reset_index() \n",
    "Occupation_ratio_df = Occupation_ratio_df.sort_values(['Ratio R/A'],ascending=False)\n",
    "Occupation_ratio_df"
   ]
  },
  {
   "cell_type": "code",
   "execution_count": 28,
   "id": "4a5230bc",
   "metadata": {},
   "outputs": [
    {
     "data": {
      "text/plain": [
       "Text(0, 0.5, 'Mean R/A Ratio')"
      ]
     },
     "execution_count": 28,
     "metadata": {},
     "output_type": "execute_result"
    },
    {
     "data": {
      "image/png": "[encoded data removed]",
      "text/plain": [
       "<Figure size 1080x504 with 1 Axes>"
      ]
     },
     "metadata": {
      "needs_background": "light"
     },
     "output_type": "display_data"
    }
   ],
   "source": [
    "fig,ax = plt.subplots(figsize = (15,7))\n",
    "sns.barplot(x='OCCUPATION_TYPE',y='Ratio R/A',data=Occupation_ratio_df,palette=sns.color_palette(\"GnBu_d\"))\n",
    "plt.xticks(rotation=70)\n",
    "plt.xlabel(\"Occupation Type\")\n",
    "plt.ylabel(\"Mean R/A Ratio\")"
   ]
  },
  {
   "cell_type": "markdown",
   "id": "ef5663e7",
   "metadata": {},
   "source": [
    "### According to the ratio of Number of repayers to Number of applicants in every occupation type, we see that it is most safe to lend money to Accountants with an R/A ratio of 0.9516 and it is least safe to lend money to low skilled labourers with an R/A ratio of 0.8284."
   ]
  },
  {
   "cell_type": "markdown",
   "id": "2ae4e5dc",
   "metadata": {},
   "source": [
    "### 3.4 How is the distribution of males and females in terms of loan safety given that they belong to a specific occupation?"
   ]
  },
  {
   "cell_type": "markdown",
   "id": "d5641778",
   "metadata": {},
   "source": [
    "### This question requires us to find the probabilities of repaying given a specific gender and a specific occupation type."
   ]
  },
  {
   "cell_type": "code",
   "execution_count": 29,
   "id": "c9a8e043",
   "metadata": {},
   "outputs": [],
   "source": [
    "\n",
    "# merge the new column 'Ratio R/A' to the train dataframe.\n",
    "train = pd.merge(left=train,right=Occupation_ratio_df,on='OCCUPATION_TYPE')"
   ]
  },
  {
   "cell_type": "code",
   "execution_count": 30,
   "id": "a23918e6",
   "metadata": {},
   "outputs": [
    {
     "data": {
      "text/plain": [
       "Text(0.5, 0, 'Gender')"
      ]
     },
     "execution_count": 30,
     "metadata": {},
     "output_type": "execute_result"
    },
    {
     "data": {
      "image/png": "[encoded data removed]",
      "text/plain": [
       "<Figure size 1080x504 with 1 Axes>"
      ]
     },
     "metadata": {
      "needs_background": "light"
     },
     "output_type": "display_data"
    }
   ],
   "source": [
    "# Find out what is the probability that an applicant will return given that he/she is a male/Female respectively.\n",
    "fig,ax = plt.subplots(figsize = (15,7))\n",
    "sns.countplot(x='CODE_GENDER',data=train,hue='TARGET',palette=sns.color_palette(\"GnBu_d\"))\n",
    "plt.xticks(rotation=70)\n",
    "plt.xlabel(\"Gender\")"
   ]
  },
  {
   "cell_type": "code",
   "execution_count": 31,
   "id": "fa108e54",
   "metadata": {},
   "outputs": [
    {
     "data": {
      "text/html": [
       "<div>\n",
       "<style scoped>\n",
       "    .dataframe tbody tr th:only-of-type {\n",
       "        vertical-align: middle;\n",
       "    }\n",
       "\n",
       "    .dataframe tbody tr th {\n",
       "        vertical-align: top;\n",
       "    }\n",
       "\n",
       "    .dataframe thead th {\n",
       "        text-align: right;\n",
       "    }\n",
       "</style>\n",
       "<table border=\"1\" class=\"dataframe\">\n",
       "  <thead>\n",
       "    <tr style=\"text-align: right;\">\n",
       "      <th></th>\n",
       "      <th>CODE_GENDER</th>\n",
       "      <th>TARGET</th>\n",
       "      <th>SK_ID_CURR</th>\n",
       "    </tr>\n",
       "  </thead>\n",
       "  <tbody>\n",
       "    <tr>\n",
       "      <th>0</th>\n",
       "      <td>F</td>\n",
       "      <td>0</td>\n",
       "      <td>119311</td>\n",
       "    </tr>\n",
       "    <tr>\n",
       "      <th>1</th>\n",
       "      <td>F</td>\n",
       "      <td>1</td>\n",
       "      <td>9971</td>\n",
       "    </tr>\n",
       "    <tr>\n",
       "      <th>2</th>\n",
       "      <td>M</td>\n",
       "      <td>0</td>\n",
       "      <td>73260</td>\n",
       "    </tr>\n",
       "    <tr>\n",
       "      <th>3</th>\n",
       "      <td>M</td>\n",
       "      <td>1</td>\n",
       "      <td>8576</td>\n",
       "    </tr>\n",
       "    <tr>\n",
       "      <th>4</th>\n",
       "      <td>XNA</td>\n",
       "      <td>0</td>\n",
       "      <td>2</td>\n",
       "    </tr>\n",
       "  </tbody>\n",
       "</table>\n",
       "</div>"
      ],
      "text/plain": [
       "  CODE_GENDER  TARGET  SK_ID_CURR\n",
       "0           F       0      119311\n",
       "1           F       1        9971\n",
       "2           M       0       73260\n",
       "3           M       1        8576\n",
       "4         XNA       0           2"
      ]
     },
     "execution_count": 31,
     "metadata": {},
     "output_type": "execute_result"
    }
   ],
   "source": [
    "# Find out what is the probability that an applicant will return given that he/she is a male/Female respectively.\n",
    "pd.DataFrame(train.groupby(['CODE_GENDER','TARGET']).count()['SK_ID_CURR']).reset_index() "
   ]
  },
  {
   "cell_type": "code",
   "execution_count": 32,
   "id": "b6162670",
   "metadata": {},
   "outputs": [
    {
     "name": "stdout",
     "output_type": "stream",
     "text": [
      "probability that an applicant will repay the given that he is a male P(R|M): 73260/(73260+8576) = 0.8952\n",
      "probability that an applicant will repay the given that she is a female P(R|F): 119311/(119311+9971) = 0.9228\n"
     ]
    }
   ],
   "source": [
    "### To find out the probability here's what we have to do:\n",
    "print(\"probability that an applicant will repay the given that he is a male P(R|M): 73260/(73260+8576) = 0.8952\") \n",
    "print(\"probability that an applicant will repay the given that she is a female P(R|F): 119311/(119311+9971) = 0.9228\")"
   ]
  },
  {
   "cell_type": "code",
   "execution_count": 33,
   "id": "5eee4450",
   "metadata": {},
   "outputs": [],
   "source": [
    "\n",
    "# Let us create a new dataframe where the probabilites of repaying based on gender is included. GR/A stands\n",
    "# for Gender based repayment ratio.\n",
    "gender_repay_ratio = pd.DataFrame({\"CODE_GENDER\":['M','F'],\"GR/A\":[0.8952,0.9228]})"
   ]
  },
  {
   "cell_type": "code",
   "execution_count": 34,
   "id": "005389e9",
   "metadata": {},
   "outputs": [],
   "source": [
    "\n",
    "# Merge this dataframe with the old train dataframe\n",
    "train = pd.merge(left=train,right=gender_repay_ratio,on='CODE_GENDER')\n"
   ]
  },
  {
   "cell_type": "code",
   "execution_count": 35,
   "id": "14b0766b",
   "metadata": {},
   "outputs": [],
   "source": [
    "\n",
    "# lets create a new column that's indicative of repayment with gender and occupation type which is just the product of Ratio R/A with G R/A.\n",
    "# EGR/A stands for employment gender repayment ratio.\n",
    "train['EGR/A'] = train['Ratio R/A']*train['GR/A']"
   ]
  },
  {
   "cell_type": "code",
   "execution_count": 36,
   "id": "85c26387",
   "metadata": {},
   "outputs": [
    {
     "data": {
      "text/plain": [
       "<matplotlib.legend.Legend at 0x25d33982580>"
      ]
     },
     "execution_count": 36,
     "metadata": {},
     "output_type": "execute_result"
    },
    {
     "data": {
      "image/png": "[encoded data removed]",
      "text/plain": [
       "<Figure size 1368x720 with 1 Axes>"
      ]
     },
     "metadata": {
      "needs_background": "light"
     },
     "output_type": "display_data"
    }
   ],
   "source": [
    "fig,ax = plt.subplots(figsize = (19,10))\n",
    "plt.xticks(rotation=70)\n",
    "sns.barplot(x='OCCUPATION_TYPE',y='EGR/A',hue='CODE_GENDER',data=train)\n",
    "plt.legend(loc=1)"
   ]
  },
  {
   "cell_type": "markdown",
   "id": "f66a41a0",
   "metadata": {},
   "source": [
    "So, in every occupation type, females are more likely to repay the loan on time.\n"
   ]
  },
  {
   "cell_type": "markdown",
   "id": "ccfeaeac",
   "metadata": {},
   "source": [
    "### 3.5 Which occupation category has the highest number of kids?\n"
   ]
  },
  {
   "cell_type": "code",
   "execution_count": 37,
   "id": "d4cf75ab",
   "metadata": {},
   "outputs": [
    {
     "data": {
      "text/plain": [
       "(array([ 0,  1,  2,  3,  4,  5,  6,  7,  8,  9, 10, 11, 12, 13, 14, 15, 16,\n",
       "        17]),\n",
       " [Text(0, 0, 'Laborers'),\n",
       "  Text(1, 0, 'Core staff'),\n",
       "  Text(2, 0, 'Accountants'),\n",
       "  Text(3, 0, 'Managers'),\n",
       "  Text(4, 0, 'Drivers'),\n",
       "  Text(5, 0, 'Sales staff'),\n",
       "  Text(6, 0, 'Cleaning staff'),\n",
       "  Text(7, 0, 'Cooking staff'),\n",
       "  Text(8, 0, 'Private service staff'),\n",
       "  Text(9, 0, 'Medicine staff'),\n",
       "  Text(10, 0, 'Security staff'),\n",
       "  Text(11, 0, 'High skill tech staff'),\n",
       "  Text(12, 0, 'Waiters/barmen staff'),\n",
       "  Text(13, 0, 'Low-skill Laborers'),\n",
       "  Text(14, 0, 'Realty agents'),\n",
       "  Text(15, 0, 'Secretaries'),\n",
       "  Text(16, 0, 'IT staff'),\n",
       "  Text(17, 0, 'HR staff')])"
      ]
     },
     "execution_count": 37,
     "metadata": {},
     "output_type": "execute_result"
    },
    {
     "data": {
      "image/png": "[encoded data removed]",
      "text/plain": [
       "<Figure size 1080x648 with 1 Axes>"
      ]
     },
     "metadata": {
      "needs_background": "light"
     },
     "output_type": "display_data"
    }
   ],
   "source": [
    "fig, ax = plt.subplots(figsize=(15,9))\n",
    "sns.barplot(x='OCCUPATION_TYPE',y='CNT_CHILDREN',hue='TARGET',data=train)\n",
    "plt.xticks(rotation=70)\n"
   ]
  },
  {
   "cell_type": "markdown",
   "id": "76895bf8",
   "metadata": {},
   "source": [
    "Right off the bat, private service staff have the highest number of kids and thus have the highest difficulty in repaying because of kids - presumably."
   ]
  },
  {
   "cell_type": "markdown",
   "id": "1419ef84",
   "metadata": {},
   "source": [
    "3.6 Which occupation category are the highest loan recipients?\n"
   ]
  },
  {
   "cell_type": "code",
   "execution_count": 38,
   "id": "ffad5d2e",
   "metadata": {},
   "outputs": [
    {
     "data": {
      "text/plain": [
       "(array([ 0,  1,  2,  3,  4,  5,  6,  7,  8,  9, 10, 11, 12, 13, 14, 15, 16,\n",
       "        17]),\n",
       " [Text(0, 0, 'Laborers'),\n",
       "  Text(1, 0, 'Core staff'),\n",
       "  Text(2, 0, 'Accountants'),\n",
       "  Text(3, 0, 'Managers'),\n",
       "  Text(4, 0, 'Drivers'),\n",
       "  Text(5, 0, 'Sales staff'),\n",
       "  Text(6, 0, 'Cleaning staff'),\n",
       "  Text(7, 0, 'Cooking staff'),\n",
       "  Text(8, 0, 'Private service staff'),\n",
       "  Text(9, 0, 'Medicine staff'),\n",
       "  Text(10, 0, 'Security staff'),\n",
       "  Text(11, 0, 'High skill tech staff'),\n",
       "  Text(12, 0, 'Waiters/barmen staff'),\n",
       "  Text(13, 0, 'Low-skill Laborers'),\n",
       "  Text(14, 0, 'Realty agents'),\n",
       "  Text(15, 0, 'Secretaries'),\n",
       "  Text(16, 0, 'IT staff'),\n",
       "  Text(17, 0, 'HR staff')])"
      ]
     },
     "execution_count": 38,
     "metadata": {},
     "output_type": "execute_result"
    },
    {
     "data": {
      "image/png": "[encoded data removed]",
      "text/plain": [
       "<Figure size 864x720 with 1 Axes>"
      ]
     },
     "metadata": {
      "needs_background": "light"
     },
     "output_type": "display_data"
    }
   ],
   "source": [
    "plt.figure(figsize=(12,10))\n",
    "sns.boxplot(x='OCCUPATION_TYPE',y='AMT_CREDIT',data=train,hue='CODE_GENDER')\n",
    "plt.xticks(rotation=70)\n"
   ]
  },
  {
   "cell_type": "markdown",
   "id": "cfb1c058",
   "metadata": {},
   "source": [
    "Accountants and Managers are the highest amount (facevalue) recipents, while low skilled laborers are the least recipents (let me make it clear- labourers are highest volume based applicants, but not large (facevalue) recipents ). It makes sense because accountants are more likely to get a large credit approved as opposed to low skilled laborers - which was kinda explained in the Ratio R/A in Sec 3.31."
   ]
  },
  {
   "cell_type": "markdown",
   "id": "dbf5abf1",
   "metadata": {},
   "source": [
    "### 4. Real estate\n"
   ]
  },
  {
   "cell_type": "markdown",
   "id": "e3f9b3d6",
   "metadata": {},
   "source": [
    "### 4.1 How many clients have real estate?\n"
   ]
  },
  {
   "cell_type": "code",
   "execution_count": 39,
   "id": "76b14991",
   "metadata": {},
   "outputs": [
    {
     "data": {
      "text/plain": [
       "<AxesSubplot:xlabel='FLAG_OWN_REALTY', ylabel='count'>"
      ]
     },
     "execution_count": 39,
     "metadata": {},
     "output_type": "execute_result"
    },
    {
     "data": {
      "image/png": "[encoded data removed]",
      "text/plain": [
       "<Figure size 864x720 with 1 Axes>"
      ]
     },
     "metadata": {
      "needs_background": "light"
     },
     "output_type": "display_data"
    }
   ],
   "source": [
    "plt.figure(figsize=(12,10))\n",
    "sns.countplot(x='FLAG_OWN_REALTY', data=train)"
   ]
  },
  {
   "cell_type": "markdown",
   "id": "bf3b914b",
   "metadata": {},
   "source": [
    "### Over 200k applicants have real estate and over 95k applicants don't have."
   ]
  },
  {
   "cell_type": "markdown",
   "id": "9c9c3237",
   "metadata": {},
   "source": [
    "### 4.2 How does having real estate influence repaying?\n"
   ]
  },
  {
   "cell_type": "code",
   "execution_count": 40,
   "id": "7f66d3f5",
   "metadata": {},
   "outputs": [
    {
     "data": {
      "text/plain": [
       "<AxesSubplot:xlabel='TARGET', ylabel='count'>"
      ]
     },
     "execution_count": 40,
     "metadata": {},
     "output_type": "execute_result"
    },
    {
     "data": {
      "image/png": "[encoded data removed]",
      "text/plain": [
       "<Figure size 1080x648 with 1 Axes>"
      ]
     },
     "metadata": {
      "needs_background": "light"
     },
     "output_type": "display_data"
    }
   ],
   "source": [
    "\n",
    "fig, ax = plt.subplots(figsize=(15,9))\n",
    "sns.countplot(x='TARGET',hue='FLAG_OWN_REALTY',data=train)"
   ]
  },
  {
   "cell_type": "code",
   "execution_count": 41,
   "id": "789e69e8",
   "metadata": {},
   "outputs": [],
   "source": [
    "reality_with_difficulty = len(train[(train['FLAG_OWN_REALTY']=='Y') & (train['TARGET']==1)])\n",
    "reality_without_difficulty = len(train[(train['FLAG_OWN_REALTY']=='Y') & (train['TARGET']==0)])\n",
    "no_reality_with_difficulty = len(train[(train['FLAG_OWN_REALTY']=='N') & (train['TARGET']==1)])\n",
    "no_reality_without_difficulty = len(train[(train['FLAG_OWN_REALTY']=='N') & (train['TARGET']==0)])"
   ]
  },
  {
   "cell_type": "code",
   "execution_count": 42,
   "id": "1378ed7b",
   "metadata": {},
   "outputs": [
    {
     "name": "stdout",
     "output_type": "stream",
     "text": [
      "Defaulters with realestate % =  8.728533823590858\n",
      "Defaulters without realestate % =  8.905509478672986\n"
     ]
    }
   ],
   "source": [
    "\n",
    "print(\"Defaulters with realestate % = \",100*reality_with_difficulty/(reality_with_difficulty+reality_without_difficulty))\n",
    "print(\"Defaulters without realestate % = \",100*no_reality_with_difficulty/(no_reality_with_difficulty+no_reality_without_difficulty))"
   ]
  },
  {
   "cell_type": "markdown",
   "id": "df4d1976",
   "metadata": {},
   "source": [
    "Surprisingly, more defaulters are those who don't have realestate!"
   ]
  },
  {
   "cell_type": "markdown",
   "id": "caef1748",
   "metadata": {},
   "source": [
    "### 4.3 How is the living area distributed? (the dataset itself is normalized by default)\n"
   ]
  },
  {
   "cell_type": "code",
   "execution_count": 43,
   "id": "55ee255e",
   "metadata": {},
   "outputs": [
    {
     "data": {
      "text/plain": [
       "<AxesSubplot:xlabel='LIVINGAREA_MEDI', ylabel='Density'>"
      ]
     },
     "execution_count": 43,
     "metadata": {},
     "output_type": "execute_result"
    },
    {
     "data": {
      "image/png": "[encoded data removed]",
      "text/plain": [
       "<Figure size 1080x648 with 1 Axes>"
      ]
     },
     "metadata": {
      "needs_background": "light"
     },
     "output_type": "display_data"
    }
   ],
   "source": [
    "fig, ax = plt.subplots(figsize=(15,9))\n",
    "sns.distplot(train['LIVINGAREA_MEDI'].dropna())\n"
   ]
  },
  {
   "cell_type": "markdown",
   "id": "15e48bda",
   "metadata": {},
   "source": [
    "### As one can tell, the median living area is almost normal, right skewed based on the KDE.\n"
   ]
  },
  {
   "cell_type": "markdown",
   "id": "43679084",
   "metadata": {},
   "source": [
    "### 4.4 How is the distribution of median number of floors?\n"
   ]
  },
  {
   "cell_type": "code",
   "execution_count": 44,
   "id": "983890da",
   "metadata": {},
   "outputs": [
    {
     "data": {
      "text/plain": [
       "<AxesSubplot:xlabel='FLOORSMAX_MEDI', ylabel='Density'>"
      ]
     },
     "execution_count": 44,
     "metadata": {},
     "output_type": "execute_result"
    },
    {
     "data": {
      "image/png": "[encoded data removed]",
      "text/plain": [
       "<Figure size 1080x648 with 1 Axes>"
      ]
     },
     "metadata": {
      "needs_background": "light"
     },
     "output_type": "display_data"
    }
   ],
   "source": [
    "    fig, ax = plt.subplots(figsize=(15,9))\n",
    "sns.distplot(train['FLOORSMAX_MEDI'].dropna())"
   ]
  },
  {
   "cell_type": "markdown",
   "id": "dbbc3204",
   "metadata": {},
   "source": [
    "### 4.5 What is the median number of max floors for people with difficulty and people without difficulty?\n"
   ]
  },
  {
   "cell_type": "code",
   "execution_count": 45,
   "id": "3763025d",
   "metadata": {},
   "outputs": [
    {
     "data": {
      "text/plain": [
       "<AxesSubplot:xlabel='TARGET', ylabel='FLOORSMAX_MEDI'>"
      ]
     },
     "execution_count": 45,
     "metadata": {},
     "output_type": "execute_result"
    },
    {
     "data": {
      "image/png": "[encoded data removed]",
      "text/plain": [
       "<Figure size 1080x648 with 1 Axes>"
      ]
     },
     "metadata": {
      "needs_background": "light"
     },
     "output_type": "display_data"
    }
   ],
   "source": [
    "fig, ax = plt.subplots(figsize=(15,9))\n",
    "sns.boxplot(x='TARGET',y='FLOORSMAX_MEDI',data=train)"
   ]
  },
  {
   "cell_type": "markdown",
   "id": "1409ec05",
   "metadata": {},
   "source": [
    "### People with difficulty had more number of median floors spread out.\n"
   ]
  },
  {
   "cell_type": "markdown",
   "id": "caf99f81",
   "metadata": {},
   "source": [
    "### How is the correlation between Average Living Area and Average Common area?\n"
   ]
  },
  {
   "cell_type": "code",
   "execution_count": 46,
   "id": "b0cad063",
   "metadata": {},
   "outputs": [
    {
     "data": {
      "text/plain": [
       "<seaborn.axisgrid.JointGrid at 0x25d35df4970>"
      ]
     },
     "execution_count": 46,
     "metadata": {},
     "output_type": "execute_result"
    },
    {
     "data": {
      "image/png": "[encoded data removed]",
      "text/plain": [
       "<Figure size 432x432 with 3 Axes>"
      ]
     },
     "metadata": {
      "needs_background": "light"
     },
     "output_type": "display_data"
    }
   ],
   "source": [
    "sns.jointplot(x='COMMONAREA_AVG',y='LIVINGAREA_AVG',data=train,kind='hex')\n"
   ]
  },
  {
   "cell_type": "markdown",
   "id": "f8ab3b39",
   "metadata": {},
   "source": [
    "P - Correlation is about 0.55!\n",
    "\n"
   ]
  },
  {
   "cell_type": "markdown",
   "id": "94c0388a",
   "metadata": {},
   "source": [
    "### Modelling"
   ]
  },
  {
   "cell_type": "markdown",
   "id": "eca10444",
   "metadata": {},
   "source": [
    "### Correlation Matrix"
   ]
  },
  {
   "cell_type": "markdown",
   "id": "8645aed3",
   "metadata": {},
   "source": [
    "Correlation states how the features are related to each other or the target variable.\n",
    "\n",
    "Correlation can be positive (increase in one value of feature increases the value of the target variable) or negative (increase in one value of feature decreases the value of the target variable)\n",
    "\n",
    "Heatmap makes it easy to identify which features are most related to the target variable, we will plot heatmap of correlated features using the seaborn library."
   ]
  },
  {
   "cell_type": "code",
   "execution_count": 47,
   "id": "f68dacbb",
   "metadata": {},
   "outputs": [
    {
     "name": "stdout",
     "output_type": "stream",
     "text": [
      "There are 35 columns to remove.\n"
     ]
    }
   ],
   "source": [
    "#Threshold for removing correlated variables\n",
    "threshold = 0.9\n",
    "\n",
    "# Absolute value correlation matrix\n",
    "corr_matrix = train.corr().abs()\n",
    "#corr_matrix.head()\n",
    "\n",
    "# Upper triangle of correlations\n",
    "upper = corr_matrix.where(np.triu(np.ones(corr_matrix.shape), k=1).astype(np.bool))\n",
    "upper.head()\n",
    "\n",
    "\n",
    "#Select columns with correlations above threshold\n",
    "to_drop = [column for column in upper.columns if any(upper[column] > threshold)]\n",
    "print('There are %d columns to remove.' % (len(to_drop)))\n"
   ]
  },
  {
   "cell_type": "code",
   "execution_count": 48,
   "id": "25ab72e2",
   "metadata": {},
   "outputs": [
    {
     "data": {
      "text/plain": [
       "['AMT_GOODS_PRICE',\n",
       " 'REGION_RATING_CLIENT_W_CITY',\n",
       " 'LIVINGAPARTMENTS_AVG',\n",
       " 'LIVINGAREA_AVG',\n",
       " 'APARTMENTS_MODE',\n",
       " 'BASEMENTAREA_MODE',\n",
       " 'YEARS_BEGINEXPLUATATION_MODE',\n",
       " 'YEARS_BUILD_MODE',\n",
       " 'COMMONAREA_MODE',\n",
       " 'ELEVATORS_MODE',\n",
       " 'ENTRANCES_MODE',\n",
       " 'FLOORSMAX_MODE',\n",
       " 'FLOORSMIN_MODE',\n",
       " 'LANDAREA_MODE',\n",
       " 'LIVINGAPARTMENTS_MODE',\n",
       " 'LIVINGAREA_MODE',\n",
       " 'NONLIVINGAPARTMENTS_MODE',\n",
       " 'NONLIVINGAREA_MODE',\n",
       " 'APARTMENTS_MEDI',\n",
       " 'BASEMENTAREA_MEDI',\n",
       " 'YEARS_BEGINEXPLUATATION_MEDI',\n",
       " 'YEARS_BUILD_MEDI',\n",
       " 'COMMONAREA_MEDI',\n",
       " 'ELEVATORS_MEDI',\n",
       " 'ENTRANCES_MEDI',\n",
       " 'FLOORSMAX_MEDI',\n",
       " 'FLOORSMIN_MEDI',\n",
       " 'LANDAREA_MEDI',\n",
       " 'LIVINGAPARTMENTS_MEDI',\n",
       " 'LIVINGAREA_MEDI',\n",
       " 'NONLIVINGAPARTMENTS_MEDI',\n",
       " 'NONLIVINGAREA_MEDI',\n",
       " 'TOTALAREA_MODE',\n",
       " 'OBS_60_CNT_SOCIAL_CIRCLE',\n",
       " 'EGR/A']"
      ]
     },
     "execution_count": 48,
     "metadata": {},
     "output_type": "execute_result"
    }
   ],
   "source": [
    "to_drop\n"
   ]
  },
  {
   "cell_type": "code",
   "execution_count": 49,
   "id": "b34885f9",
   "metadata": {},
   "outputs": [],
   "source": [
    "to_drop =['REGION_RATING_CLIENT_W_CITY',\n",
    " 'APARTMENTS_MODE',\n",
    " 'BASEMENTAREA_MODE',\n",
    " 'YEARS_BEGINEXPLUATATION_MODE',\n",
    " 'YEARS_BUILD_MODE',\n",
    " 'COMMONAREA_MODE',\n",
    " 'ELEVATORS_MODE',\n",
    " 'ENTRANCES_MODE',\n",
    " 'FLOORSMAX_MODE',\n",
    " 'FLOORSMIN_MODE',\n",
    " 'LANDAREA_MODE',\n",
    " 'LIVINGAPARTMENTS_MODE',\n",
    " 'LIVINGAREA_MODE',\n",
    " 'NONLIVINGAPARTMENTS_MODE',\n",
    " 'NONLIVINGAREA_MODE',\n",
    " 'APARTMENTS_MEDI',\n",
    " 'BASEMENTAREA_MEDI',\n",
    " 'YEARS_BEGINEXPLUATATION_MEDI',\n",
    " 'YEARS_BUILD_MEDI',\n",
    " 'COMMONAREA_MEDI',\n",
    " 'ELEVATORS_MEDI',\n",
    " 'ENTRANCES_MEDI',\n",
    " 'FLOORSMAX_MEDI',\n",
    " 'FLOORSMIN_MEDI',\n",
    " 'LANDAREA_MEDI',\n",
    " 'LIVINGAPARTMENTS_MEDI',\n",
    " 'LIVINGAREA_MEDI',\n",
    " 'NONLIVINGAPARTMENTS_MEDI',\n",
    " 'NONLIVINGAREA_MEDI',\n",
    "'SK_ID_CURR',\n",
    " 'HOUR_APPR_PROCESS_START',\n",
    " 'LIVE_CITY_NOT_WORK_CITY',\n",
    " 'FLAG_PHONE',\n",
    " 'FLAG_EMAIL',\n",
    " 'REGION_POPULATION_RELATIVE']\n"
   ]
  },
  {
   "cell_type": "code",
   "execution_count": 50,
   "id": "5d3e2976",
   "metadata": {},
   "outputs": [
    {
     "name": "stdout",
     "output_type": "stream",
     "text": [
      "Training shape:  (211118, 125)\n",
      "New Training shape:  (211118, 90)\n"
     ]
    }
   ],
   "source": [
    "print('Training shape: ', train.shape)\n",
    "train = train.drop(columns = to_drop)\n",
    "print('New Training shape: ', train.shape)\n"
   ]
  },
  {
   "cell_type": "markdown",
   "id": "219673f6",
   "metadata": {},
   "source": [
    "### Handling missing values\n"
   ]
  },
  {
   "cell_type": "code",
   "execution_count": 51,
   "id": "9099651b",
   "metadata": {},
   "outputs": [
    {
     "data": {
      "text/plain": [
       "<AxesSubplot:>"
      ]
     },
     "execution_count": 51,
     "metadata": {},
     "output_type": "execute_result"
    },
    {
     "data": {
      "image/png": "[encoded data removed]",
      "text/plain": [
       "<Figure size 432x288 with 1 Axes>"
      ]
     },
     "metadata": {
      "needs_background": "light"
     },
     "output_type": "display_data"
    }
   ],
   "source": [
    "sns.heatmap(train.isnull(),yticklabels=False,cbar=False,cmap='viridis')\n"
   ]
  },
  {
   "cell_type": "code",
   "execution_count": 52,
   "id": "fdf161d9",
   "metadata": {},
   "outputs": [],
   "source": [
    "def missing_values_table(df):\n",
    "        # Total missing values\n",
    "        mis_val = df.isnull().sum()\n",
    "        \n",
    "        # Percentage of missing values\n",
    "        mis_val_percent = 100 * df.isnull().sum() / len(df)\n",
    "        \n",
    "        # Make a table with the results\n",
    "        mis_val_table = pd.concat([mis_val, mis_val_percent], axis=1)\n",
    "        \n",
    "        # Rename the columns\n",
    "        mis_val_table_ren_columns = mis_val_table.rename(\n",
    "        columns = {0 : 'Missing Values', 1 : '% of Total Values'})\n",
    "        \n",
    "        # Sort the table by percentage of missing descending\n",
    "        mis_val_table_ren_columns = mis_val_table_ren_columns[\n",
    "            mis_val_table_ren_columns.iloc[:,1] != 0].sort_values(\n",
    "        '% of Total Values', ascending=False).round(1)\n",
    "        \n",
    "        # Print some summary information\n",
    "        print (\"Your selected dataframe has \" + str(df.shape[1]) + \" columns.\\n\"      \n",
    "            \"There are \" + str(mis_val_table_ren_columns.shape[0]) +\n",
    "              \" columns that have missing values.\")\n",
    "        \n",
    "        \n",
    "        # Return the dataframe with missing information\n",
    "        return mis_val_table_ren_columns"
   ]
  },
  {
   "cell_type": "code",
   "execution_count": 53,
   "id": "0ee07e2c",
   "metadata": {},
   "outputs": [
    {
     "name": "stdout",
     "output_type": "stream",
     "text": [
      "Your selected dataframe has 90 columns.\n",
      "There are 37 columns that have missing values.\n"
     ]
    },
    {
     "data": {
      "text/html": [
       "<div>\n",
       "<style scoped>\n",
       "    .dataframe tbody tr th:only-of-type {\n",
       "        vertical-align: middle;\n",
       "    }\n",
       "\n",
       "    .dataframe tbody tr th {\n",
       "        vertical-align: top;\n",
       "    }\n",
       "\n",
       "    .dataframe thead th {\n",
       "        text-align: right;\n",
       "    }\n",
       "</style>\n",
       "<table border=\"1\" class=\"dataframe\">\n",
       "  <thead>\n",
       "    <tr style=\"text-align: right;\">\n",
       "      <th></th>\n",
       "      <th>Missing Values</th>\n",
       "      <th>% of Total Values</th>\n",
       "    </tr>\n",
       "  </thead>\n",
       "  <tbody>\n",
       "    <tr>\n",
       "      <th>COMMONAREA_AVG</th>\n",
       "      <td>147666</td>\n",
       "      <td>69.9</td>\n",
       "    </tr>\n",
       "    <tr>\n",
       "      <th>NONLIVINGAPARTMENTS_AVG</th>\n",
       "      <td>146756</td>\n",
       "      <td>69.5</td>\n",
       "    </tr>\n",
       "    <tr>\n",
       "      <th>FONDKAPREMONT_MODE</th>\n",
       "      <td>144471</td>\n",
       "      <td>68.4</td>\n",
       "    </tr>\n",
       "    <tr>\n",
       "      <th>LIVINGAPARTMENTS_AVG</th>\n",
       "      <td>144455</td>\n",
       "      <td>68.4</td>\n",
       "    </tr>\n",
       "    <tr>\n",
       "      <th>FLOORSMIN_AVG</th>\n",
       "      <td>143415</td>\n",
       "      <td>67.9</td>\n",
       "    </tr>\n",
       "    <tr>\n",
       "      <th>YEARS_BUILD_AVG</th>\n",
       "      <td>140567</td>\n",
       "      <td>66.6</td>\n",
       "    </tr>\n",
       "    <tr>\n",
       "      <th>OWN_CAR_AGE</th>\n",
       "      <td>130941</td>\n",
       "      <td>62.0</td>\n",
       "    </tr>\n",
       "    <tr>\n",
       "      <th>LANDAREA_AVG</th>\n",
       "      <td>125232</td>\n",
       "      <td>59.3</td>\n",
       "    </tr>\n",
       "    <tr>\n",
       "      <th>BASEMENTAREA_AVG</th>\n",
       "      <td>123521</td>\n",
       "      <td>58.5</td>\n",
       "    </tr>\n",
       "    <tr>\n",
       "      <th>NONLIVINGAREA_AVG</th>\n",
       "      <td>116574</td>\n",
       "      <td>55.2</td>\n",
       "    </tr>\n",
       "    <tr>\n",
       "      <th>ELEVATORS_AVG</th>\n",
       "      <td>112618</td>\n",
       "      <td>53.3</td>\n",
       "    </tr>\n",
       "    <tr>\n",
       "      <th>EXT_SOURCE_1</th>\n",
       "      <td>109935</td>\n",
       "      <td>52.1</td>\n",
       "    </tr>\n",
       "    <tr>\n",
       "      <th>WALLSMATERIAL_MODE</th>\n",
       "      <td>107389</td>\n",
       "      <td>50.9</td>\n",
       "    </tr>\n",
       "    <tr>\n",
       "      <th>APARTMENTS_AVG</th>\n",
       "      <td>107175</td>\n",
       "      <td>50.8</td>\n",
       "    </tr>\n",
       "    <tr>\n",
       "      <th>ENTRANCES_AVG</th>\n",
       "      <td>106397</td>\n",
       "      <td>50.4</td>\n",
       "    </tr>\n",
       "    <tr>\n",
       "      <th>LIVINGAREA_AVG</th>\n",
       "      <td>106005</td>\n",
       "      <td>50.2</td>\n",
       "    </tr>\n",
       "    <tr>\n",
       "      <th>HOUSETYPE_MODE</th>\n",
       "      <td>105936</td>\n",
       "      <td>50.2</td>\n",
       "    </tr>\n",
       "    <tr>\n",
       "      <th>FLOORSMAX_AVG</th>\n",
       "      <td>105099</td>\n",
       "      <td>49.8</td>\n",
       "    </tr>\n",
       "    <tr>\n",
       "      <th>YEARS_BEGINEXPLUATATION_AVG</th>\n",
       "      <td>103016</td>\n",
       "      <td>48.8</td>\n",
       "    </tr>\n",
       "    <tr>\n",
       "      <th>TOTALAREA_MODE</th>\n",
       "      <td>101946</td>\n",
       "      <td>48.3</td>\n",
       "    </tr>\n",
       "    <tr>\n",
       "      <th>EMERGENCYSTATE_MODE</th>\n",
       "      <td>100114</td>\n",
       "      <td>47.4</td>\n",
       "    </tr>\n",
       "    <tr>\n",
       "      <th>EXT_SOURCE_3</th>\n",
       "      <td>41857</td>\n",
       "      <td>19.8</td>\n",
       "    </tr>\n",
       "    <tr>\n",
       "      <th>AMT_REQ_CREDIT_BUREAU_HOUR</th>\n",
       "      <td>28297</td>\n",
       "      <td>13.4</td>\n",
       "    </tr>\n",
       "    <tr>\n",
       "      <th>AMT_REQ_CREDIT_BUREAU_WEEK</th>\n",
       "      <td>28297</td>\n",
       "      <td>13.4</td>\n",
       "    </tr>\n",
       "    <tr>\n",
       "      <th>AMT_REQ_CREDIT_BUREAU_DAY</th>\n",
       "      <td>28297</td>\n",
       "      <td>13.4</td>\n",
       "    </tr>\n",
       "    <tr>\n",
       "      <th>AMT_REQ_CREDIT_BUREAU_MON</th>\n",
       "      <td>28297</td>\n",
       "      <td>13.4</td>\n",
       "    </tr>\n",
       "    <tr>\n",
       "      <th>AMT_REQ_CREDIT_BUREAU_QRT</th>\n",
       "      <td>28297</td>\n",
       "      <td>13.4</td>\n",
       "    </tr>\n",
       "    <tr>\n",
       "      <th>AMT_REQ_CREDIT_BUREAU_YEAR</th>\n",
       "      <td>28297</td>\n",
       "      <td>13.4</td>\n",
       "    </tr>\n",
       "    <tr>\n",
       "      <th>NAME_TYPE_SUITE</th>\n",
       "      <td>907</td>\n",
       "      <td>0.4</td>\n",
       "    </tr>\n",
       "    <tr>\n",
       "      <th>DEF_30_CNT_SOCIAL_CIRCLE</th>\n",
       "      <td>696</td>\n",
       "      <td>0.3</td>\n",
       "    </tr>\n",
       "    <tr>\n",
       "      <th>OBS_60_CNT_SOCIAL_CIRCLE</th>\n",
       "      <td>696</td>\n",
       "      <td>0.3</td>\n",
       "    </tr>\n",
       "    <tr>\n",
       "      <th>DEF_60_CNT_SOCIAL_CIRCLE</th>\n",
       "      <td>696</td>\n",
       "      <td>0.3</td>\n",
       "    </tr>\n",
       "    <tr>\n",
       "      <th>OBS_30_CNT_SOCIAL_CIRCLE</th>\n",
       "      <td>696</td>\n",
       "      <td>0.3</td>\n",
       "    </tr>\n",
       "    <tr>\n",
       "      <th>EXT_SOURCE_2</th>\n",
       "      <td>412</td>\n",
       "      <td>0.2</td>\n",
       "    </tr>\n",
       "    <tr>\n",
       "      <th>AMT_GOODS_PRICE</th>\n",
       "      <td>221</td>\n",
       "      <td>0.1</td>\n",
       "    </tr>\n",
       "    <tr>\n",
       "      <th>AMT_ANNUITY</th>\n",
       "      <td>12</td>\n",
       "      <td>0.0</td>\n",
       "    </tr>\n",
       "    <tr>\n",
       "      <th>CNT_FAM_MEMBERS</th>\n",
       "      <td>2</td>\n",
       "      <td>0.0</td>\n",
       "    </tr>\n",
       "  </tbody>\n",
       "</table>\n",
       "</div>"
      ],
      "text/plain": [
       "                             Missing Values  % of Total Values\n",
       "COMMONAREA_AVG                       147666               69.9\n",
       "NONLIVINGAPARTMENTS_AVG              146756               69.5\n",
       "FONDKAPREMONT_MODE                   144471               68.4\n",
       "LIVINGAPARTMENTS_AVG                 144455               68.4\n",
       "FLOORSMIN_AVG                        143415               67.9\n",
       "YEARS_BUILD_AVG                      140567               66.6\n",
       "OWN_CAR_AGE                          130941               62.0\n",
       "LANDAREA_AVG                         125232               59.3\n",
       "BASEMENTAREA_AVG                     123521               58.5\n",
       "NONLIVINGAREA_AVG                    116574               55.2\n",
       "ELEVATORS_AVG                        112618               53.3\n",
       "EXT_SOURCE_1                         109935               52.1\n",
       "WALLSMATERIAL_MODE                   107389               50.9\n",
       "APARTMENTS_AVG                       107175               50.8\n",
       "ENTRANCES_AVG                        106397               50.4\n",
       "LIVINGAREA_AVG                       106005               50.2\n",
       "HOUSETYPE_MODE                       105936               50.2\n",
       "FLOORSMAX_AVG                        105099               49.8\n",
       "YEARS_BEGINEXPLUATATION_AVG          103016               48.8\n",
       "TOTALAREA_MODE                       101946               48.3\n",
       "EMERGENCYSTATE_MODE                  100114               47.4\n",
       "EXT_SOURCE_3                          41857               19.8\n",
       "AMT_REQ_CREDIT_BUREAU_HOUR            28297               13.4\n",
       "AMT_REQ_CREDIT_BUREAU_WEEK            28297               13.4\n",
       "AMT_REQ_CREDIT_BUREAU_DAY             28297               13.4\n",
       "AMT_REQ_CREDIT_BUREAU_MON             28297               13.4\n",
       "AMT_REQ_CREDIT_BUREAU_QRT             28297               13.4\n",
       "AMT_REQ_CREDIT_BUREAU_YEAR            28297               13.4\n",
       "NAME_TYPE_SUITE                         907                0.4\n",
       "DEF_30_CNT_SOCIAL_CIRCLE                696                0.3\n",
       "OBS_60_CNT_SOCIAL_CIRCLE                696                0.3\n",
       "DEF_60_CNT_SOCIAL_CIRCLE                696                0.3\n",
       "OBS_30_CNT_SOCIAL_CIRCLE                696                0.3\n",
       "EXT_SOURCE_2                            412                0.2\n",
       "AMT_GOODS_PRICE                         221                0.1\n",
       "AMT_ANNUITY                              12                0.0\n",
       "CNT_FAM_MEMBERS                           2                0.0"
      ]
     },
     "execution_count": 53,
     "metadata": {},
     "output_type": "execute_result"
    }
   ],
   "source": [
    "\n",
    "# Missing values statistics\n",
    "missing_values = missing_values_table(train)\n",
    "missing_values.head(40)"
   ]
  },
  {
   "cell_type": "code",
   "execution_count": 54,
   "id": "9e48b944",
   "metadata": {},
   "outputs": [
    {
     "data": {
      "text/plain": [
       "NAME_CONTRACT_TYPE                 0\n",
       "CODE_GENDER                        0\n",
       "FLAG_OWN_CAR                       0\n",
       "FLAG_OWN_REALTY                    0\n",
       "NAME_TYPE_SUITE                  907\n",
       "NAME_INCOME_TYPE                   0\n",
       "NAME_EDUCATION_TYPE                0\n",
       "NAME_FAMILY_STATUS                 0\n",
       "NAME_HOUSING_TYPE                  0\n",
       "OCCUPATION_TYPE                    0\n",
       "WEEKDAY_APPR_PROCESS_START         0\n",
       "ORGANIZATION_TYPE                  0\n",
       "FONDKAPREMONT_MODE            144471\n",
       "HOUSETYPE_MODE                105936\n",
       "WALLSMATERIAL_MODE            107389\n",
       "EMERGENCYSTATE_MODE           100114\n",
       "dtype: int64"
      ]
     },
     "execution_count": 54,
     "metadata": {},
     "output_type": "execute_result"
    }
   ],
   "source": [
    "train.select_dtypes('object').isnull().sum()\n"
   ]
  },
  {
   "cell_type": "code",
   "execution_count": 56,
   "id": "189b4ed4",
   "metadata": {},
   "outputs": [
    {
     "data": {
      "text/plain": [
       "['NAME_TYPE_SUITE',\n",
       " 'FONDKAPREMONT_MODE',\n",
       " 'HOUSETYPE_MODE',\n",
       " 'WALLSMATERIAL_MODE',\n",
       " 'EMERGENCYSTATE_MODE']"
      ]
     },
     "execution_count": 56,
     "metadata": {},
     "output_type": "execute_result"
    }
   ],
   "source": [
    "\n",
    "categorical_vars = [var for var in train.columns if train[var].isnull().mean()>0 and\n",
    "                   train[var].dtypes=='O']\n",
    "categorical_vars"
   ]
  },
  {
   "cell_type": "code",
   "execution_count": 57,
   "id": "8c1763ee",
   "metadata": {},
   "outputs": [
    {
     "data": {
      "text/plain": [
       "['COMMONAREA_AVG',\n",
       " 'NONLIVINGAPARTMENTS_AVG',\n",
       " 'LIVINGAPARTMENTS_AVG',\n",
       " 'FLOORSMIN_AVG',\n",
       " 'YEARS_BUILD_AVG',\n",
       " 'OWN_CAR_AGE',\n",
       " 'LANDAREA_AVG',\n",
       " 'BASEMENTAREA_AVG',\n",
       " 'NONLIVINGAREA_AVG',\n",
       " 'ELEVATORS_AVG',\n",
       " 'EXT_SOURCE_1',\n",
       " 'APARTMENTS_AVG',\n",
       " 'ENTRANCES_AVG',\n",
       " 'LIVINGAREA_AVG',\n",
       " 'FLOORSMAX_AVG',\n",
       " 'YEARS_BEGINEXPLUATATION_AVG',\n",
       " 'TOTALAREA_MODE',\n",
       " 'EXT_SOURCE_3',\n",
       " 'AMT_REQ_CREDIT_BUREAU_HOUR',\n",
       " 'AMT_REQ_CREDIT_BUREAU_WEEK',\n",
       " 'AMT_REQ_CREDIT_BUREAU_DAY',\n",
       " 'AMT_REQ_CREDIT_BUREAU_MON',\n",
       " 'AMT_REQ_CREDIT_BUREAU_QRT',\n",
       " 'AMT_REQ_CREDIT_BUREAU_YEAR',\n",
       " 'DEF_30_CNT_SOCIAL_CIRCLE',\n",
       " 'OBS_60_CNT_SOCIAL_CIRCLE',\n",
       " 'DEF_60_CNT_SOCIAL_CIRCLE',\n",
       " 'OBS_30_CNT_SOCIAL_CIRCLE',\n",
       " 'EXT_SOURCE_2',\n",
       " 'AMT_GOODS_PRICE',\n",
       " 'AMT_ANNUITY',\n",
       " 'CNT_FAM_MEMBERS']"
      ]
     },
     "execution_count": 57,
     "metadata": {},
     "output_type": "execute_result"
    }
   ],
   "source": [
    "\n",
    "numeric_vars=missing_values.index.tolist()\n",
    "numeric_vars = [e for e in numeric_vars if e not in categorical_vars]\n",
    "numeric_vars"
   ]
  },
  {
   "cell_type": "code",
   "execution_count": 58,
   "id": "c75db728",
   "metadata": {},
   "outputs": [],
   "source": [
    "\n",
    "from sklearn.impute import SimpleImputer \n",
    "\n",
    "imputer = SimpleImputer(missing_values=np.nan, strategy='median')\n",
    "\n",
    "\n",
    "train[numeric_vars] = imputer.fit_transform(train[numeric_vars])"
   ]
  },
  {
   "cell_type": "code",
   "execution_count": 59,
   "id": "32284700",
   "metadata": {},
   "outputs": [
    {
     "name": "stdout",
     "output_type": "stream",
     "text": [
      "0    Unaccompanied\n",
      "dtype: object\n"
     ]
    }
   ],
   "source": [
    "print(train['NAME_TYPE_SUITE'].mode())"
   ]
  },
  {
   "cell_type": "code",
   "execution_count": 60,
   "id": "43afed7c",
   "metadata": {},
   "outputs": [],
   "source": [
    "train['NAME_TYPE_SUITE'].fillna('Unaccompanied',inplace=True)\n"
   ]
  },
  {
   "cell_type": "code",
   "execution_count": 62,
   "id": "2ff39243",
   "metadata": {},
   "outputs": [
    {
     "name": "stdout",
     "output_type": "stream",
     "text": [
      "0    Laborers\n",
      "dtype: object\n"
     ]
    }
   ],
   "source": [
    "print(train['OCCUPATION_TYPE'].mode())\n"
   ]
  },
  {
   "cell_type": "code",
   "execution_count": 63,
   "id": "e02acde5",
   "metadata": {},
   "outputs": [],
   "source": [
    "train['OCCUPATION_TYPE'].fillna('Laborers',inplace=True)\n"
   ]
  },
  {
   "cell_type": "code",
   "execution_count": 64,
   "id": "d98461af",
   "metadata": {},
   "outputs": [
    {
     "name": "stdout",
     "output_type": "stream",
     "text": [
      "0    reg oper account\n",
      "dtype: object\n"
     ]
    }
   ],
   "source": [
    "print(train['FONDKAPREMONT_MODE'].mode())\n"
   ]
  },
  {
   "cell_type": "code",
   "execution_count": 65,
   "id": "7db4663b",
   "metadata": {},
   "outputs": [],
   "source": [
    "train['FONDKAPREMONT_MODE'].fillna('reg oper account',inplace=True)\n"
   ]
  },
  {
   "cell_type": "code",
   "execution_count": 66,
   "id": "abda8a0e",
   "metadata": {},
   "outputs": [
    {
     "name": "stdout",
     "output_type": "stream",
     "text": [
      "0    block of flats\n",
      "dtype: object\n"
     ]
    }
   ],
   "source": [
    "print(train['HOUSETYPE_MODE'].mode())\n"
   ]
  },
  {
   "cell_type": "code",
   "execution_count": 67,
   "id": "e311e5d8",
   "metadata": {},
   "outputs": [],
   "source": [
    "train['HOUSETYPE_MODE'].fillna('block of flats',inplace=True)\n"
   ]
  },
  {
   "cell_type": "code",
   "execution_count": 68,
   "id": "1cbdf3fb",
   "metadata": {},
   "outputs": [
    {
     "name": "stdout",
     "output_type": "stream",
     "text": [
      "0    Panel\n",
      "dtype: object\n"
     ]
    }
   ],
   "source": [
    "print(train['WALLSMATERIAL_MODE'].mode())\n"
   ]
  },
  {
   "cell_type": "code",
   "execution_count": 69,
   "id": "88464d9d",
   "metadata": {},
   "outputs": [],
   "source": [
    "train['WALLSMATERIAL_MODE'].fillna('Panel',inplace=True)\n"
   ]
  },
  {
   "cell_type": "code",
   "execution_count": 70,
   "id": "7d82d888",
   "metadata": {},
   "outputs": [
    {
     "name": "stdout",
     "output_type": "stream",
     "text": [
      "0    No\n",
      "dtype: object\n"
     ]
    }
   ],
   "source": [
    "print(train['EMERGENCYSTATE_MODE'].mode()) \n"
   ]
  },
  {
   "cell_type": "code",
   "execution_count": 71,
   "id": "ba14e3f8",
   "metadata": {},
   "outputs": [],
   "source": [
    "train['EMERGENCYSTATE_MODE'].fillna('No',inplace=True)\n"
   ]
  },
  {
   "cell_type": "code",
   "execution_count": 72,
   "id": "efd9adf7",
   "metadata": {},
   "outputs": [
    {
     "data": {
      "text/plain": [
       "0"
      ]
     },
     "execution_count": 72,
     "metadata": {},
     "output_type": "execute_result"
    }
   ],
   "source": [
    "train.isnull().sum().sum()\n"
   ]
  },
  {
   "cell_type": "code",
   "execution_count": 73,
   "id": "a348670f",
   "metadata": {},
   "outputs": [
    {
     "data": {
      "text/plain": [
       "(211118, 90)"
      ]
     },
     "execution_count": 73,
     "metadata": {},
     "output_type": "execute_result"
    }
   ],
   "source": [
    "train.shape\n"
   ]
  },
  {
   "cell_type": "markdown",
   "id": "8bde81f3",
   "metadata": {},
   "source": [
    "### Encoding\n",
    "\n",
    "Label Encoding for any categorical variables with only 2 categories and One-Hot Encoding for any categorical variables with more than 2 categories.\n",
    "\n"
   ]
  },
  {
   "cell_type": "code",
   "execution_count": 74,
   "id": "547bc969",
   "metadata": {},
   "outputs": [],
   "source": [
    "from sklearn.preprocessing import LabelEncoder\n"
   ]
  },
  {
   "cell_type": "code",
   "execution_count": 75,
   "id": "238daca4",
   "metadata": {},
   "outputs": [
    {
     "name": "stdout",
     "output_type": "stream",
     "text": [
      "5 columns were label encoded.\n"
     ]
    }
   ],
   "source": [
    "# Create a label encoder object\n",
    "le = LabelEncoder()\n",
    "le_count = 0\n",
    "\n",
    "# Iterate through the columns\n",
    "for col in train:\n",
    "    if train[col].dtype == 'object':\n",
    "        # If 2 or fewer unique categories\n",
    "        if len(list(train[col].unique())) <= 2:\n",
    "            # Train on the training data\n",
    "            le.fit(train[col])\n",
    "            # Transform both training and testing data\n",
    "            train[col] = le.transform(train[col])\n",
    "                       \n",
    "            # Keep track of how many columns were label encoded\n",
    "            le_count += 1\n",
    "            \n",
    "print('%d columns were label encoded.' % le_count)\n"
   ]
  },
  {
   "cell_type": "code",
   "execution_count": 77,
   "id": "85617007",
   "metadata": {},
   "outputs": [
    {
     "name": "stdout",
     "output_type": "stream",
     "text": [
      "Features shape:  (211118, 207)\n"
     ]
    }
   ],
   "source": [
    "\n",
    "# one-hot encoding of categorical variables\n",
    "train = pd.get_dummies(train)\n",
    "\n",
    "print('Features shape: ', train.shape)"
   ]
  },
  {
   "cell_type": "markdown",
   "id": "482d236c",
   "metadata": {},
   "source": [
    "Domain Knowledge Features\n",
    "\n",
    "CREDIT_INCOME_PERCENT: the percentage of the credit amount relative to a client's income\n",
    "\n",
    "ANNUITY_INCOME_PERCENT: the percentage of the loan annuity relative to a client's income\n",
    "\n",
    "CREDIT_TERM: the length of the payment in months (since the annuity is the monthly amount due)\n",
    "\n",
    "DAYS_EMPLOYED_PERCENT: the percentage of the days employed relative to the client's age"
   ]
  },
  {
   "cell_type": "code",
   "execution_count": 79,
   "id": "b5d9b365",
   "metadata": {},
   "outputs": [],
   "source": [
    "train['CREDIT_INCOME_PERCENT'] = train['AMT_CREDIT'] / train['AMT_INCOME_TOTAL']\n",
    "train['ANNUITY_INCOME_PERCENT'] = train['AMT_ANNUITY'] / train['AMT_INCOME_TOTAL']\n",
    "train['CREDIT_TERM'] = train['AMT_ANNUITY'] / train['AMT_CREDIT']\n",
    "train['DAYS_EMPLOYED_PERCENT'] = train['DAYS_EMPLOYED'] / train['DAYS_BIRTH']\n"
   ]
  },
  {
   "cell_type": "code",
   "execution_count": 80,
   "id": "517d888d",
   "metadata": {},
   "outputs": [],
   "source": [
    "train.to_csv('cleandata.csv', index=False)\n"
   ]
  },
  {
   "cell_type": "markdown",
   "id": "6d60af98",
   "metadata": {},
   "source": [
    "### Supervised Learning Technique\n",
    "\n",
    "This notebook show how Supervised Machine Learning techniques can be used to predict the Loan defaulters\n",
    "\n",
    "Algorithms used:\n",
    "\n",
    "Logistic regression\n",
    "\n",
    "Random Forest\n",
    "\n",
    "Extreme Gradient Boost\n",
    "\n",
    "Also I have used SMOTE and Random OverSampler to balance the class."
   ]
  },
  {
   "cell_type": "markdown",
   "id": "d1862e9a",
   "metadata": {},
   "source": [
    "### Load the data\n"
   ]
  },
  {
   "cell_type": "code",
   "execution_count": 81,
   "id": "50c01075",
   "metadata": {},
   "outputs": [],
   "source": [
    "import pandas as pd \n",
    "import numpy as np\n",
    "import matplotlib\n",
    "import matplotlib.pyplot as plt\n",
    "import seaborn as sns\n",
    "%matplotlib inline \n",
    "\n",
    "import sys\n",
    "import warnings\n",
    "warnings.filterwarnings(\"ignore\")\n",
    "\n",
    "# to visualise al the columns in the dataframe\n",
    "pd.pandas.set_option('display.max_columns', None)"
   ]
  },
  {
   "cell_type": "code",
   "execution_count": 82,
   "id": "55139d3b",
   "metadata": {},
   "outputs": [],
   "source": [
    "application_train = pd.read_csv('cleandata.csv')\n"
   ]
  },
  {
   "cell_type": "markdown",
   "id": "630ea7a8",
   "metadata": {},
   "source": [
    "### Modeling\n",
    "\n",
    "### Partitioning\n",
    "\n"
   ]
  },
  {
   "cell_type": "code",
   "execution_count": 83,
   "id": "d8190e86",
   "metadata": {},
   "outputs": [
    {
     "name": "stdout",
     "output_type": "stream",
     "text": [
      "outlier_fraction for the whole dataset:\n",
      "0.09631252888545004\n",
      "Fraud Cases : 18547\n",
      "Valid Cases : 192571\n"
     ]
    }
   ],
   "source": [
    "#Determine the number of fraud and valid transactions in the dataset\n",
    "\n",
    "Fraud = application_train[application_train['TARGET']==1]\n",
    "\n",
    "Valid = application_train[application_train['TARGET']==0]\n",
    "\n",
    "outlier_fraction = len(Fraud)/float(len(Valid))\n",
    "\n",
    "print('outlier_fraction for the whole dataset:')\n",
    "print(outlier_fraction)\n",
    "\n",
    "print(\"Fraud Cases : {}\".format(len(Fraud)))\n",
    "\n",
    "print(\"Valid Cases : {}\".format(len(Valid)))\n"
   ]
  },
  {
   "cell_type": "code",
   "execution_count": 84,
   "id": "2739251f",
   "metadata": {},
   "outputs": [
    {
     "name": "stdout",
     "output_type": "stream",
     "text": [
      "(168894, 210) (168894,)\n",
      "(42224, 210) (42224,)\n"
     ]
    }
   ],
   "source": [
    "from sklearn.model_selection import train_test_split\n",
    "\n",
    "#Create independent and Dependent Features\n",
    "columns = application_train.columns.tolist()\n",
    "# Filter the columns to remove data we do not want \n",
    "columns = [c for c in columns if c not in [\"TARGET\"]]\n",
    "# Store the variable we are predicting \n",
    "target = \"TARGET\"\n",
    "# Define a random state \n",
    "state = np.random.RandomState(42)\n",
    "X = application_train[columns]\n",
    "y = application_train[target]\n",
    "X_train, X_test, y_train, y_test = train_test_split(X, y, test_size=0.2)\n",
    "print(X_train.shape, y_train.shape)\n",
    "print(X_test.shape, y_test.shape)\n"
   ]
  },
  {
   "cell_type": "markdown",
   "id": "2229843d",
   "metadata": {},
   "source": [
    "### More Feature Selection\n"
   ]
  },
  {
   "cell_type": "markdown",
   "id": "11ee5ee2",
   "metadata": {},
   "source": [
    "using RandomForestClassifier\n",
    "\n"
   ]
  },
  {
   "cell_type": "code",
   "execution_count": 85,
   "id": "25acd3e3",
   "metadata": {},
   "outputs": [],
   "source": [
    "from sklearn.ensemble import RandomForestClassifier\n",
    "from sklearn.feature_selection import SelectFromModel\n"
   ]
  },
  {
   "cell_type": "code",
   "execution_count": 86,
   "id": "59db5280",
   "metadata": {},
   "outputs": [
    {
     "data": {
      "text/plain": [
       "SelectFromModel(estimator=RandomForestClassifier(random_state=RandomState(MT19937) at 0x25D48AA8C40))"
      ]
     },
     "execution_count": 86,
     "metadata": {},
     "output_type": "execute_result"
    }
   ],
   "source": [
    "sel = SelectFromModel(RandomForestClassifier(n_estimators = 100, random_state=state))\n",
    "sel.fit(X_train, y_train)\n"
   ]
  },
  {
   "cell_type": "code",
   "execution_count": 87,
   "id": "e74685b6",
   "metadata": {},
   "outputs": [
    {
     "data": {
      "text/plain": [
       "array([False, False, False,  True,  True,  True,  True,  True,  True,\n",
       "        True,  True,  True,  True,  True, False, False,  True, False,\n",
       "        True,  True, False, False, False, False,  True,  True,  True,\n",
       "        True,  True,  True,  True,  True,  True, False,  True,  True,\n",
       "        True,  True,  True,  True, False,  True,  True, False,  True,\n",
       "        True,  True, False,  True, False, False, False, False, False,\n",
       "       False, False, False, False, False, False, False, False, False,\n",
       "       False, False, False, False, False, False, False, False, False,\n",
       "        True,  True,  True,  True, False,  True, False, False, False,\n",
       "       False, False, False, False, False, False, False, False, False,\n",
       "       False, False, False, False, False, False, False, False,  True,\n",
       "       False, False, False, False, False, False, False, False, False,\n",
       "       False, False, False, False, False, False, False, False, False,\n",
       "       False, False, False, False, False, False, False, False, False,\n",
       "       False, False, False, False, False, False, False, False, False,\n",
       "       False, False, False, False,  True, False, False, False, False,\n",
       "       False, False, False, False, False, False, False, False, False,\n",
       "       False, False, False, False, False, False, False, False, False,\n",
       "       False, False, False, False, False, False, False, False, False,\n",
       "       False, False, False, False, False, False, False, False, False,\n",
       "       False, False, False, False, False, False, False, False, False,\n",
       "       False, False, False, False, False, False, False, False, False,\n",
       "       False, False, False, False, False, False, False, False,  True,\n",
       "        True,  True,  True])"
      ]
     },
     "execution_count": 87,
     "metadata": {},
     "output_type": "execute_result"
    }
   ],
   "source": [
    "sel.get_support()\n"
   ]
  },
  {
   "cell_type": "code",
   "execution_count": 88,
   "id": "9c9a4b43",
   "metadata": {},
   "outputs": [
    {
     "data": {
      "text/plain": [
       "46"
      ]
     },
     "execution_count": 88,
     "metadata": {},
     "output_type": "execute_result"
    }
   ],
   "source": [
    "\n",
    "selected_feat= X_train.columns[(sel.get_support())].tolist()\n",
    "len(selected_feat)"
   ]
  },
  {
   "cell_type": "code",
   "execution_count": 89,
   "id": "7148b15c",
   "metadata": {},
   "outputs": [
    {
     "name": "stdout",
     "output_type": "stream",
     "text": [
      "['FLAG_OWN_REALTY', 'CNT_CHILDREN', 'AMT_INCOME_TOTAL', 'AMT_CREDIT', 'AMT_ANNUITY', 'AMT_GOODS_PRICE', 'DAYS_BIRTH', 'DAYS_EMPLOYED', 'DAYS_REGISTRATION', 'DAYS_ID_PUBLISH', 'OWN_CAR_AGE', 'FLAG_WORK_PHONE', 'CNT_FAM_MEMBERS', 'REGION_RATING_CLIENT', 'REG_CITY_NOT_WORK_CITY', 'EXT_SOURCE_1', 'EXT_SOURCE_2', 'EXT_SOURCE_3', 'APARTMENTS_AVG', 'BASEMENTAREA_AVG', 'YEARS_BEGINEXPLUATATION_AVG', 'YEARS_BUILD_AVG', 'COMMONAREA_AVG', 'ENTRANCES_AVG', 'FLOORSMAX_AVG', 'FLOORSMIN_AVG', 'LANDAREA_AVG', 'LIVINGAPARTMENTS_AVG', 'LIVINGAREA_AVG', 'NONLIVINGAREA_AVG', 'TOTALAREA_MODE', 'OBS_30_CNT_SOCIAL_CIRCLE', 'DEF_30_CNT_SOCIAL_CIRCLE', 'OBS_60_CNT_SOCIAL_CIRCLE', 'DAYS_LAST_PHONE_CHANGE', 'AMT_REQ_CREDIT_BUREAU_MON', 'AMT_REQ_CREDIT_BUREAU_QRT', 'AMT_REQ_CREDIT_BUREAU_YEAR', 'Ratio R/A', 'EGR/A', 'NAME_FAMILY_STATUS_Married', 'ORGANIZATION_TYPE_Business Entity Type 3', 'CREDIT_INCOME_PERCENT', 'ANNUITY_INCOME_PERCENT', 'CREDIT_TERM', 'DAYS_EMPLOYED_PERCENT']\n"
     ]
    }
   ],
   "source": [
    "print(selected_feat)\n"
   ]
  },
  {
   "cell_type": "code",
   "execution_count": 90,
   "id": "cf63070b",
   "metadata": {},
   "outputs": [],
   "source": [
    "\n",
    "\n",
    "app_X_train = X_train.copy() #Taking a copy before dropping \n",
    "app_X_test = X_test.copy()"
   ]
  },
  {
   "cell_type": "code",
   "execution_count": 91,
   "id": "b3d80e7f",
   "metadata": {},
   "outputs": [],
   "source": [
    "\n",
    "X_train = X_train[selected_feat]\n",
    "X_test = X_test[selected_feat]"
   ]
  },
  {
   "cell_type": "code",
   "execution_count": 92,
   "id": "c012cad0",
   "metadata": {},
   "outputs": [
    {
     "name": "stdout",
     "output_type": "stream",
     "text": [
      "(168894, 46) (42224, 46)\n"
     ]
    }
   ],
   "source": [
    "print (X_train.shape, X_test.shape)"
   ]
  },
  {
   "cell_type": "markdown",
   "id": "874e826e",
   "metadata": {},
   "source": [
    "### Logistic Regression\n"
   ]
  },
  {
   "cell_type": "code",
   "execution_count": 93,
   "id": "2e70cfe9",
   "metadata": {},
   "outputs": [],
   "source": [
    "from sklearn.linear_model import LogisticRegression\n",
    "\n",
    "logistic_regressor = LogisticRegression(C = 2)"
   ]
  },
  {
   "cell_type": "code",
   "execution_count": 94,
   "id": "2cdea39d",
   "metadata": {},
   "outputs": [
    {
     "data": {
      "text/plain": [
       "LogisticRegression(C=2)"
      ]
     },
     "execution_count": 94,
     "metadata": {},
     "output_type": "execute_result"
    }
   ],
   "source": [
    "logistic_regressor.fit(X_train,y_train)\n"
   ]
  },
  {
   "cell_type": "code",
   "execution_count": 95,
   "id": "6cf805cf",
   "metadata": {},
   "outputs": [],
   "source": [
    "y_pred = logistic_regressor.predict(X_test)\n"
   ]
  },
  {
   "cell_type": "code",
   "execution_count": 96,
   "id": "5faa7772",
   "metadata": {},
   "outputs": [
    {
     "name": "stdout",
     "output_type": "stream",
     "text": [
      "Logistic Regression errors: 3737\n",
      "Accuracy Score :\n",
      "0.9114958317544525\n",
      "Confusion matrix :\n",
      "[[38487     3]\n",
      " [ 3734     0]]\n",
      "Classification Report :\n",
      "              precision    recall  f1-score   support\n",
      "\n",
      "           0       0.91      1.00      0.95     38490\n",
      "           1       0.00      0.00      0.00      3734\n",
      "\n",
      "    accuracy                           0.91     42224\n",
      "   macro avg       0.46      0.50      0.48     42224\n",
      "weighted avg       0.83      0.91      0.87     42224\n",
      "\n",
      "ROC AUC score is:  0.4999610288386594\n"
     ]
    }
   ],
   "source": [
    "from sklearn.metrics import classification_report,accuracy_score, f1_score, roc_auc_score\n",
    "from sklearn.metrics import confusion_matrix\n",
    "\n",
    "n_errors = (y_pred != y_test).sum()\n",
    "# Run Classification Metrics\n",
    "print(\"{}: {}\".format(\"Logistic Regression errors\",n_errors))\n",
    "print(\"Accuracy Score :\")\n",
    "print(accuracy_score(y_test,y_pred))\n",
    "print(\"Confusion matrix :\")\n",
    "print(confusion_matrix(y_test, y_pred))\n",
    "print(\"Classification Report :\")\n",
    "print(classification_report(y_test,y_pred))\n",
    "print(\"ROC AUC score is: \",roc_auc_score(y_test,y_pred))"
   ]
  },
  {
   "cell_type": "markdown",
   "id": "ced0a869",
   "metadata": {},
   "source": [
    "Random Forest - Bagging ensemble of Decision trees\n"
   ]
  },
  {
   "cell_type": "code",
   "execution_count": 97,
   "id": "fe2abaf1",
   "metadata": {},
   "outputs": [],
   "source": [
    "from sklearn.ensemble import RandomForestClassifier\n",
    "\n",
    "random_forest = RandomForestClassifier(n_estimators = 100, random_state = state, verbose = 1, n_jobs = -1)\n"
   ]
  },
  {
   "cell_type": "code",
   "execution_count": 98,
   "id": "b371e6d0",
   "metadata": {},
   "outputs": [
    {
     "name": "stderr",
     "output_type": "stream",
     "text": [
      "[Parallel(n_jobs=-1)]: Using backend ThreadingBackend with 8 concurrent workers.\n",
      "[Parallel(n_jobs=-1)]: Done  34 tasks      | elapsed:   20.7s\n",
      "[Parallel(n_jobs=-1)]: Done 100 out of 100 | elapsed:   53.7s finished\n"
     ]
    },
    {
     "data": {
      "text/plain": [
       "RandomForestClassifier(n_jobs=-1,\n",
       "                       random_state=RandomState(MT19937) at 0x25D48AA8C40,\n",
       "                       verbose=1)"
      ]
     },
     "execution_count": 98,
     "metadata": {},
     "output_type": "execute_result"
    }
   ],
   "source": [
    "random_forest.fit(X_train,y_train)\n"
   ]
  },
  {
   "cell_type": "code",
   "execution_count": 99,
   "id": "d3776533",
   "metadata": {},
   "outputs": [
    {
     "name": "stderr",
     "output_type": "stream",
     "text": [
      "[Parallel(n_jobs=8)]: Using backend ThreadingBackend with 8 concurrent workers.\n",
      "[Parallel(n_jobs=8)]: Done  34 tasks      | elapsed:    0.5s\n",
      "[Parallel(n_jobs=8)]: Done 100 out of 100 | elapsed:    1.2s finished\n"
     ]
    }
   ],
   "source": [
    "y_pred = random_forest.predict(X_test) \n"
   ]
  },
  {
   "cell_type": "code",
   "execution_count": 101,
   "id": "a12722fa",
   "metadata": {},
   "outputs": [
    {
     "name": "stdout",
     "output_type": "stream",
     "text": [
      "Random Forest errors: 3731\n",
      "Accuracy Score :\n",
      "0.9116379310344828\n",
      "Confusion matrix :\n",
      "[[38478    12]\n",
      " [ 3719    15]]\n",
      "Classification Report :\n",
      "              precision    recall  f1-score   support\n",
      "\n",
      "           0       0.91      1.00      0.95     38490\n",
      "           1       0.56      0.00      0.01      3734\n",
      "\n",
      "    accuracy                           0.91     42224\n",
      "   macro avg       0.73      0.50      0.48     42224\n",
      "weighted avg       0.88      0.91      0.87     42224\n",
      "\n",
      "ROC AUC score is:  0.5018526852528701\n"
     ]
    }
   ],
   "source": [
    "n_errors = (y_pred != y_test).sum()\n",
    "# Run Classification Metrics\n",
    "print(\"{}: {}\".format(\"Random Forest errors\",n_errors))\n",
    "print(\"Accuracy Score :\")\n",
    "print(accuracy_score(y_test,y_pred))\n",
    "print(\"Confusion matrix :\")\n",
    "print(confusion_matrix(y_test, y_pred))\n",
    "print(\"Classification Report :\")\n",
    "print(classification_report(y_test,y_pred))\n",
    "print(\"ROC AUC score is: \",roc_auc_score(y_test,y_pred))"
   ]
  },
  {
   "cell_type": "markdown",
   "id": "a1d9e720",
   "metadata": {},
   "source": [
    "Extreme Gradient Boost Model\n"
   ]
  },
  {
   "cell_type": "code",
   "execution_count": 102,
   "id": "03a24a98",
   "metadata": {},
   "outputs": [],
   "source": [
    "from xgboost import XGBClassifier\n"
   ]
  },
  {
   "cell_type": "code",
   "execution_count": 103,
   "id": "87309a0a",
   "metadata": {},
   "outputs": [],
   "source": [
    "xgb_classifier = XGBClassifier(n_estimators=100,max_depth=5)\n"
   ]
  },
  {
   "cell_type": "code",
   "execution_count": 104,
   "id": "c968c27c",
   "metadata": {},
   "outputs": [
    {
     "data": {
      "text/plain": [
       "XGBClassifier(base_score=0.5, booster='gbtree', callbacks=None,\n",
       "              colsample_bylevel=1, colsample_bynode=1, colsample_bytree=1,\n",
       "              early_stopping_rounds=None, enable_categorical=False,\n",
       "              eval_metric=None, feature_types=None, gamma=0, gpu_id=-1,\n",
       "              grow_policy='depthwise', importance_type=None,\n",
       "              interaction_constraints='', learning_rate=0.300000012,\n",
       "              max_bin=256, max_cat_threshold=64, max_cat_to_onehot=4,\n",
       "              max_delta_step=0, max_depth=5, max_leaves=0, min_child_weight=1,\n",
       "              missing=nan, monotone_constraints='()', n_estimators=100,\n",
       "              n_jobs=0, num_parallel_tree=1, predictor='auto', random_state=0, ...)"
      ]
     },
     "execution_count": 104,
     "metadata": {},
     "output_type": "execute_result"
    }
   ],
   "source": [
    "xgb_classifier.fit(X_train,y_train)\n"
   ]
  },
  {
   "cell_type": "code",
   "execution_count": 105,
   "id": "f8c5c8e7",
   "metadata": {},
   "outputs": [],
   "source": [
    "y_pred = xgb_classifier.predict(X_test)\n"
   ]
  },
  {
   "cell_type": "code",
   "execution_count": 106,
   "id": "da5005c8",
   "metadata": {},
   "outputs": [
    {
     "name": "stdout",
     "output_type": "stream",
     "text": [
      "Extreme Gradient Boost errors: 3734\n",
      "Accuracy Score :\n",
      "0.9115668813944676\n",
      "Confusion matrix :\n",
      "[[38371   119]\n",
      " [ 3615   119]]\n",
      "Classification Report :\n",
      "              precision    recall  f1-score   support\n",
      "\n",
      "           0       0.91      1.00      0.95     38490\n",
      "           1       0.50      0.03      0.06      3734\n",
      "\n",
      "    accuracy                           0.91     42224\n",
      "   macro avg       0.71      0.51      0.51     42224\n",
      "weighted avg       0.88      0.91      0.87     42224\n",
      "\n",
      "ROC AUC score is:  0.5143887984594667\n"
     ]
    }
   ],
   "source": [
    "n_errors = (y_pred != y_test).sum()\n",
    "# Run Classification Metrics\n",
    "print(\"{}: {}\".format(\"Extreme Gradient Boost errors\",n_errors))\n",
    "print(\"Accuracy Score :\")\n",
    "print(accuracy_score(y_test,y_pred))\n",
    "print(\"Confusion matrix :\")\n",
    "print(confusion_matrix(y_test, y_pred))\n",
    "print(\"Classification Report :\")\n",
    "print(classification_report(y_test,y_pred))\n",
    "print(\"ROC AUC score is: \",roc_auc_score(y_test,y_pred))"
   ]
  },
  {
   "cell_type": "markdown",
   "id": "aa626d13",
   "metadata": {},
   "source": [
    "Here we can see ROC AUC score is best for Extreme Gradient Boost Model\n",
    "So we can tell that XGB model is the best among the three models"
   ]
  },
  {
   "cell_type": "code",
   "execution_count": null,
   "id": "9eaecebc",
   "metadata": {},
   "outputs": [],
   "source": []
  }
 ],
 "metadata": {
  "kernelspec": {
   "display_name": "Python 3 (ipykernel)",
   "language": "python",
   "name": "python3"
  },
  "language_info": {
   "codemirror_mode": {
    "name": "ipython",
    "version": 3
   },
   "file_extension": ".py",
   "mimetype": "text/x-python",
   "name": "python",
   "nbconvert_exporter": "python",
   "pygments_lexer": "ipython3",
   "version": "3.9.13"
  }
 },
 "nbformat": 4,
 "nbformat_minor": 5
}
